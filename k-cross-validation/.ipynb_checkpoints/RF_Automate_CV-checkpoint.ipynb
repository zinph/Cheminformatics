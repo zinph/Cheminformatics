{
 "cells": [
  {
   "cell_type": "code",
   "execution_count": 1,
   "metadata": {},
   "outputs": [
    {
     "name": "stderr",
     "output_type": "stream",
     "text": [
      "/home/zinph/miniconda3/envs/ML/lib/python3.6/site-packages/sklearn/externals/joblib/__init__.py:15: DeprecationWarning: sklearn.externals.joblib is deprecated in 0.21 and will be removed in 0.23. Please import this functionality directly from joblib, which can be installed with: pip install joblib. If this warning is raised when loading pickled models, you may need to re-serialize those models with scikit-learn 0.21+.\n",
      "  warnings.warn(msg, category=DeprecationWarning)\n"
     ]
    }
   ],
   "source": [
    "# REGRESSION MODEL DEEP LEARNING\n",
    "import os\n",
    "import pickle\n",
    "import shutil\n",
    "import time\n",
    "\n",
    "import matplotlib.pyplot as plt\n",
    "\n",
    "import itertools\n",
    "import pandas as pd\n",
    "import numpy as np\n",
    "\n",
    "from scipy import stats\n",
    "from sklearn.utils import shuffle\n",
    "from sklearn import preprocessing\n",
    "from sklearn.preprocessing import Imputer\n",
    "from sklearn.metrics import mean_absolute_error, r2_score\n",
    "from sklearn.externals import joblib\n",
    "from sklearn.ensemble import RandomForestRegressor\n",
    "from sklearn.datasets import make_regression\n",
    "from sklearn.model_selection import KFold, train_test_split,RandomizedSearchCV, GridSearchCV, cross_validate, cross_val_score, cross_val_predict \n",
    "\n",
    "# os.environ[\"CUDA_VISIBLE_DEVICES\"]=\"0\""
   ]
  },
  {
   "cell_type": "code",
   "execution_count": 2,
   "metadata": {},
   "outputs": [],
   "source": [
    "def convert_time(second):\n",
    "    day = second/86400\n",
    "    hour = (day - int(day))*24\n",
    "    minute = (hour - int(hour))*60\n",
    "    second = round((minute - int(minute))*60,4)\n",
    "    return(str(int(day)) + ' DAYS: '+ str(int(hour)) + ' HOURS: '+ str(int(minute)) + ' MINUTES: ' + str(second) + ' SECONDS')"
   ]
  },
  {
   "cell_type": "code",
   "execution_count": 3,
   "metadata": {},
   "outputs": [],
   "source": [
    "# def create_directory(old_directory):\n",
    "#     new_directory = old_directory+'/RF'\n",
    "#     while os.path.exists(new_directory):\n",
    "#         shutil.rmtree(new_directory)\n",
    "#     os.mkdir(new_directory)\n",
    "#     return new_directory"
   ]
  },
  {
   "cell_type": "code",
   "execution_count": 4,
   "metadata": {},
   "outputs": [],
   "source": [
    "def split_partitions(DATA,TARGETS,IDS, folds):\n",
    "    num_val_samples = len(DATA) // folds+1\n",
    "    one_fold = []\n",
    "    nine_folds = []\n",
    "    for i in range(folds):\n",
    "        one_fold_data = DATA[i * num_val_samples: (i + 1) * num_val_samples] # prepares the validation data: data from partition # k\n",
    "        one_fold_targets = TARGETS[i * num_val_samples: (i + 1) * num_val_samples]\n",
    "        one_fold_IDs = IDS[i * num_val_samples: (i + 1) * num_val_samples]\n",
    "        one_fold += [[one_fold_data, one_fold_targets, one_fold_IDs]]\n",
    "        \n",
    "        # prepares the training data: data from all other partitions\n",
    "        nine_fold_data = np.concatenate([DATA[:i * num_val_samples],DATA[(i + 1) * num_val_samples:]],axis=0)\n",
    "        nine_fold_targets = np.concatenate([TARGETS[:i * num_val_samples],TARGETS[(i + 1) * num_val_samples:]],axis=0)\n",
    "        nine_fold_IDs = np.concatenate([IDS[:i * num_val_samples],IDS[(i + 1) * num_val_samples:]],axis=0)\n",
    "        nine_folds += [[nine_fold_data,nine_fold_targets,nine_fold_IDs]]\n",
    "    return one_fold, nine_folds   "
   ]
  },
  {
   "cell_type": "code",
   "execution_count": 5,
   "metadata": {},
   "outputs": [],
   "source": [
    "def evaluate(model, test_features, test_labels):\n",
    "    predictions = model.predict(test_features)\n",
    "    errors = abs(predictions - test_labels)\n",
    "    mape = 100 * np.mean(errors / test_labels)\n",
    "    accuracy = 100 - mape\n",
    "    print('Model Performance')\n",
    "    print('Average Error: {:0.4f} degrees.'.format(np.mean(errors)))\n",
    "    print('Accuracy = {:0.2f}%.'.format(accuracy))\n",
    "    \n",
    "    return accuracy"
   ]
  },
  {
   "cell_type": "code",
   "execution_count": 6,
   "metadata": {},
   "outputs": [
    {
     "name": "stdout",
     "output_type": "stream",
     "text": [
      "Lig3D-Lig2D-Lig-BS_Ki\n"
     ]
    },
    {
     "name": "stderr",
     "output_type": "stream",
     "text": [
      "/home/zinph/miniconda3/envs/ML/lib/python3.6/site-packages/sklearn/utils/deprecation.py:66: DeprecationWarning: Class Imputer is deprecated; Imputer was deprecated in version 0.20 and will be removed in 0.22. Import impute.SimpleImputer from sklearn instead.\n",
      "  warnings.warn(msg, category=DeprecationWarning)\n"
     ]
    },
    {
     "name": "stdout",
     "output_type": "stream",
     "text": [
      "all_data : (555, 2389)\n",
      "Lig3D-Lig2D-Lig-BS-FPI_Ki\n"
     ]
    },
    {
     "name": "stderr",
     "output_type": "stream",
     "text": [
      "/home/zinph/miniconda3/envs/ML/lib/python3.6/site-packages/sklearn/utils/deprecation.py:66: DeprecationWarning: Class Imputer is deprecated; Imputer was deprecated in version 0.20 and will be removed in 0.22. Import impute.SimpleImputer from sklearn instead.\n",
      "  warnings.warn(msg, category=DeprecationWarning)\n"
     ]
    },
    {
     "name": "stdout",
     "output_type": "stream",
     "text": [
      "all_data : (555, 2405)\n",
      "Lig2D_IC50\n",
      "all_data : (306, 647)\n"
     ]
    },
    {
     "name": "stderr",
     "output_type": "stream",
     "text": [
      "/home/zinph/miniconda3/envs/ML/lib/python3.6/site-packages/sklearn/utils/deprecation.py:66: DeprecationWarning: Class Imputer is deprecated; Imputer was deprecated in version 0.20 and will be removed in 0.22. Import impute.SimpleImputer from sklearn instead.\n",
      "  warnings.warn(msg, category=DeprecationWarning)\n"
     ]
    },
    {
     "name": "stdout",
     "output_type": "stream",
     "text": [
      "Lig3D-Lig2D_IC50\n"
     ]
    },
    {
     "name": "stderr",
     "output_type": "stream",
     "text": [
      "/home/zinph/miniconda3/envs/ML/lib/python3.6/site-packages/sklearn/utils/deprecation.py:66: DeprecationWarning: Class Imputer is deprecated; Imputer was deprecated in version 0.20 and will be removed in 0.22. Import impute.SimpleImputer from sklearn instead.\n",
      "  warnings.warn(msg, category=DeprecationWarning)\n"
     ]
    },
    {
     "name": "stdout",
     "output_type": "stream",
     "text": [
      "all_data : (306, 1149)\n",
      "Lig3D-Lig2D-Lig_IC50\n"
     ]
    },
    {
     "name": "stderr",
     "output_type": "stream",
     "text": [
      "/home/zinph/miniconda3/envs/ML/lib/python3.6/site-packages/sklearn/utils/deprecation.py:66: DeprecationWarning: Class Imputer is deprecated; Imputer was deprecated in version 0.20 and will be removed in 0.22. Import impute.SimpleImputer from sklearn instead.\n",
      "  warnings.warn(msg, category=DeprecationWarning)\n"
     ]
    },
    {
     "name": "stdout",
     "output_type": "stream",
     "text": [
      "all_data : (306, 2153)\n",
      "Lig3D-Lig2D-Lig-BS_IC50\n"
     ]
    },
    {
     "name": "stderr",
     "output_type": "stream",
     "text": [
      "/home/zinph/miniconda3/envs/ML/lib/python3.6/site-packages/sklearn/utils/deprecation.py:66: DeprecationWarning: Class Imputer is deprecated; Imputer was deprecated in version 0.20 and will be removed in 0.22. Import impute.SimpleImputer from sklearn instead.\n",
      "  warnings.warn(msg, category=DeprecationWarning)\n"
     ]
    },
    {
     "name": "stdout",
     "output_type": "stream",
     "text": [
      "all_data : (306, 2389)\n",
      "Lig3D-Lig2D-Lig-BS-FPI_IC50\n"
     ]
    },
    {
     "name": "stderr",
     "output_type": "stream",
     "text": [
      "/home/zinph/miniconda3/envs/ML/lib/python3.6/site-packages/sklearn/utils/deprecation.py:66: DeprecationWarning: Class Imputer is deprecated; Imputer was deprecated in version 0.20 and will be removed in 0.22. Import impute.SimpleImputer from sklearn instead.\n",
      "  warnings.warn(msg, category=DeprecationWarning)\n"
     ]
    },
    {
     "name": "stdout",
     "output_type": "stream",
     "text": [
      "all_data : (306, 2405)\n",
      "Lig2D_All\n"
     ]
    },
    {
     "name": "stderr",
     "output_type": "stream",
     "text": [
      "/home/zinph/miniconda3/envs/ML/lib/python3.6/site-packages/sklearn/utils/deprecation.py:66: DeprecationWarning: Class Imputer is deprecated; Imputer was deprecated in version 0.20 and will be removed in 0.22. Import impute.SimpleImputer from sklearn instead.\n",
      "  warnings.warn(msg, category=DeprecationWarning)\n"
     ]
    },
    {
     "name": "stdout",
     "output_type": "stream",
     "text": [
      "all_data : (861, 647)\n",
      "Lig3D-Lig2D_All\n"
     ]
    },
    {
     "name": "stderr",
     "output_type": "stream",
     "text": [
      "/home/zinph/miniconda3/envs/ML/lib/python3.6/site-packages/sklearn/utils/deprecation.py:66: DeprecationWarning: Class Imputer is deprecated; Imputer was deprecated in version 0.20 and will be removed in 0.22. Import impute.SimpleImputer from sklearn instead.\n",
      "  warnings.warn(msg, category=DeprecationWarning)\n"
     ]
    },
    {
     "name": "stdout",
     "output_type": "stream",
     "text": [
      "all_data : (861, 1149)\n",
      "Lig3D-Lig2D-Lig_All\n"
     ]
    },
    {
     "name": "stderr",
     "output_type": "stream",
     "text": [
      "/home/zinph/miniconda3/envs/ML/lib/python3.6/site-packages/sklearn/utils/deprecation.py:66: DeprecationWarning: Class Imputer is deprecated; Imputer was deprecated in version 0.20 and will be removed in 0.22. Import impute.SimpleImputer from sklearn instead.\n",
      "  warnings.warn(msg, category=DeprecationWarning)\n"
     ]
    },
    {
     "name": "stdout",
     "output_type": "stream",
     "text": [
      "all_data : (861, 2153)\n",
      "Lig3D-Lig2D-Lig-BS_All\n"
     ]
    },
    {
     "name": "stderr",
     "output_type": "stream",
     "text": [
      "/home/zinph/miniconda3/envs/ML/lib/python3.6/site-packages/sklearn/utils/deprecation.py:66: DeprecationWarning: Class Imputer is deprecated; Imputer was deprecated in version 0.20 and will be removed in 0.22. Import impute.SimpleImputer from sklearn instead.\n",
      "  warnings.warn(msg, category=DeprecationWarning)\n"
     ]
    },
    {
     "name": "stdout",
     "output_type": "stream",
     "text": [
      "all_data : (861, 2389)\n",
      "Lig3D-Lig2D-Lig-BS-FPI_All\n"
     ]
    },
    {
     "name": "stderr",
     "output_type": "stream",
     "text": [
      "/home/zinph/miniconda3/envs/ML/lib/python3.6/site-packages/sklearn/utils/deprecation.py:66: DeprecationWarning: Class Imputer is deprecated; Imputer was deprecated in version 0.20 and will be removed in 0.22. Import impute.SimpleImputer from sklearn instead.\n",
      "  warnings.warn(msg, category=DeprecationWarning)\n"
     ]
    },
    {
     "name": "stdout",
     "output_type": "stream",
     "text": [
      "all_data : (861, 2405)\n",
      "0 DAYS: 14 HOURS: 34 MINUTES: 23.4272 SECONDS\n"
     ]
    }
   ],
   "source": [
    "# Load the train and test datasets\n",
    "main_directory = \"/media/zinph/DATAPART1/P5/Data/\"\n",
    "\n",
    "# 'Lig2D_Ki', 'Lig3D-Lig2D_Ki', 'Lig3D-Lig2D-Lig_Ki',\n",
    "\n",
    "Ki_IC50_folders = ['Lig2D_All', 'Lig3D-Lig2D_All', 'Lig3D-Lig2D-Lig_All', 'Lig3D-Lig2D-Lig-BS_All', 'Lig3D-Lig2D-Lig-BS-FPI_All']\n",
    "Ki_folders = ['Lig3D-Lig2D-Lig-BS_Ki', 'Lig3D-Lig2D-Lig-BS-FPI_Ki']\n",
    "IC50_folders = ['Lig2D_IC50', 'Lig3D-Lig2D_IC50', 'Lig3D-Lig2D-Lig_IC50', 'Lig3D-Lig2D-Lig-BS_IC50', 'Lig3D-Lig2D-Lig-BS-FPI_IC50']\n",
    "\n",
    "all_folders = Ki_folders + IC50_folders + Ki_IC50_folders\n",
    "outer_k = 10\n",
    "\n",
    "start_time = time.time()\n",
    "        \n",
    "for f in all_folders:\n",
    "    print(f)\n",
    "    directory = main_directory+f+'/'\n",
    "    \n",
    "    RF_directory = main_directory+f+'/RF/'\n",
    "    if not os.path.exists(RF_directory):\n",
    "        os.mkdir(RF_directory)\n",
    "    RF_model_directory = RF_directory + '/cv_models/'\n",
    "    if not os.path.exists(RF_model_directory):\n",
    "        os.mkdir(RF_model_directory)\n",
    "    \n",
    "    \n",
    "    train = pd.read_csv(directory+\"trainSet.csv\", sep=',')\n",
    "    test  = pd.read_csv(directory+\"testSet.csv\", sep=',')\n",
    "    \n",
    "    frames = [train, test]\n",
    "    combined = pd.concat(frames)\n",
    "    combined = shuffle(combined)\n",
    "    \n",
    "    all_IDs     = combined[combined.columns[0]]\n",
    "    pre_all_data    = combined.loc[:, combined.columns != 'Aff'].drop(combined.columns[0],axis=1)\n",
    "    all_targets  = np.concatenate(combined[['Aff']].values, axis=0).tolist()\n",
    "\n",
    "    all_data_np = pre_all_data.values \n",
    "    \n",
    "    # preprocess data, normalize columns\n",
    "    imputer = Imputer()\n",
    "    scaler     = preprocessing.MinMaxScaler()\n",
    "    all_data   = scaler.fit_transform(imputer.fit_transform(all_data_np)) \n",
    "    \n",
    "    print(\"all_data :\", all_data.shape)\n",
    "        \n",
    "    cv_frame = pd.DataFrame()\n",
    "    \n",
    "    test_fold,train_fold = split_partitions(all_data,all_targets,all_IDs,outer_k)\n",
    "    \n",
    "    outerCV__targets = []\n",
    "    outerCV__predictions = []\n",
    "    outerCV__IDs = [] \n",
    "\n",
    "    #################################################################################################\n",
    "    \n",
    "    for i in range(outer_k):\n",
    "        \n",
    "        outer_train = train_fold[i]\n",
    "        outer_test  = test_fold[i]\n",
    "\n",
    "        outerCV__test_data, outerCV__test_targets, outerCV__test_ids  = test_fold[i][0], test_fold[i][1], test_fold[i][2] \n",
    "        outerCV__train_data, outerCV__train_targets, outerCV__train_ids = train_fold[i][0], train_fold[i][1], train_fold[i][2]\n",
    "        \n",
    "    \n",
    "        cv_rf = RandomForestRegressor(n_estimators= 1600, max_depth = 90, \n",
    "                               max_features = 'auto', min_samples_leaf = 1, \n",
    "                               min_samples_split = 5, bootstrap = True, criterion=\"mae\", n_jobs = 10)\n",
    "        # Fit the random search model\n",
    "        cv_rf.fit(outerCV__train_data,outerCV__train_targets)\n",
    "        \n",
    "        \n",
    "        cv_model = RF_model_directory+'RF_cv_'+str(i) +'.h5'\n",
    "        pickle.dump(cv_rf, open(cv_model, 'wb'))\n",
    "        \n",
    "        outerCV__test_predictions = cv_rf.predict(outerCV__test_data).tolist()\n",
    "        outerCV__predictions.append(outerCV__test_predictions)\n",
    "        outerCV__targets.append(outerCV__test_targets)\n",
    "        outerCV__IDs.append(outerCV__test_ids)\n",
    "        del cv_rf, outerCV__test_predictions\n",
    "\n",
    "    \n",
    "    outerCV__targets_combined  = list(itertools.chain.from_iterable(outerCV__targets))\n",
    "    outerCV__predictions_combined = list(itertools.chain.from_iterable(outerCV__predictions))\n",
    "    outerCV__IDs_combined = list(itertools.chain.from_iterable(outerCV__IDs))\n",
    "        \n",
    "    cv_frame['IDs'] = outerCV__IDs_combined\n",
    "    cv_frame['ExperimentalAff'] = outerCV__targets_combined\n",
    "    cv_frame['PredictedAff'] = outerCV__predictions_combined\n",
    "\n",
    "    cv_frame.to_csv(RF_directory+'RF_CV_BestModel_Predictions.csv',index=False)\n",
    "    \n",
    "duration = convert_time(time.time()-start_time)\n",
    "print(duration)"
   ]
  },
  {
   "cell_type": "code",
   "execution_count": null,
   "metadata": {},
   "outputs": [],
   "source": []
  }
 ],
 "metadata": {
  "kernelspec": {
   "display_name": "Python 3",
   "language": "python",
   "name": "python3"
  },
  "language_info": {
   "codemirror_mode": {
    "name": "ipython",
    "version": 3
   },
   "file_extension": ".py",
   "mimetype": "text/x-python",
   "name": "python",
   "nbconvert_exporter": "python",
   "pygments_lexer": "ipython3",
   "version": "3.7.9"
  }
 },
 "nbformat": 4,
 "nbformat_minor": 2
}
