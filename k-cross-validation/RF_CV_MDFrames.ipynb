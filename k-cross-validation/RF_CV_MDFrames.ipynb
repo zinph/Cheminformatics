{
 "cells": [
  {
   "cell_type": "markdown",
   "metadata": {},
   "source": [
    "Import the required libraries."
   ]
  },
  {
   "cell_type": "code",
   "execution_count": 1,
   "metadata": {},
   "outputs": [],
   "source": [
    "import itertools, os\n",
    "import pandas as pd\n",
    "import numpy as np\n",
    "\n",
    "from sklearn.utils import shuffle\n",
    "from sklearn import preprocessing\n",
    "from sklearn.impute import SimpleImputer\n",
    "from sklearn.model_selection import RandomizedSearchCV\n",
    "from sklearn.ensemble import RandomForestRegressor\n",
    "from sklearn.metrics import mean_squared_error, r2_score"
   ]
  },
  {
   "cell_type": "markdown",
   "metadata": {},
   "source": [
    "##### Create a python class to handle data files containing MD descriptor frames."
   ]
  },
  {
   "cell_type": "code",
   "execution_count": 2,
   "metadata": {},
   "outputs": [],
   "source": [
    "class MDframes_DL:\n",
    "    def __init__(self):\n",
    "        self.MDQSAR_directory = \"MD_Data/\"\n",
    "        self.retrieve_data_labels()\n",
    "        self.retrieve_cpd_filenames()\n",
    "        \n",
    "    def retrieve_data_labels(self):\n",
    "        '''Retrieve the names of compounds along with binding affinities and save them in dictionary.'''\n",
    "        cpd_affmanager = open(\"aff.csv\",'r')\n",
    "        cpd_affmanager.readline()\n",
    "        self.cpd_data_labels = {i[0]:float(i[1]) for i in (x.strip().split(',') for x in cpd_affmanager)} # make dictionary of compound IDs (string) matched with binding affinities (float)\n",
    "        \n",
    "    def retrieve_cpd_filenames(self):\n",
    "        '''Retrieve the names of all cpds files in the folder and shuffle the list.'''\n",
    "        self.cpd_filenames = os.listdir(self.MDQSAR_directory) # contains the names of all compounds in the folder\n",
    "        shuffle(self.cpd_filenames)\n",
    "        \n",
    "    def BatchGenerator(self,file_names):\n",
    "        \"Based on files in path and generate data and labels batch by batch.\"\n",
    "        initial = 0\n",
    "        batch_size = 1\n",
    "        while initial < len(file_names):\n",
    "            pre_data = []\n",
    "            labels = []\n",
    "            for i in range(batch_size):\n",
    "                if initial < len(file_names):\n",
    "                    if os.path.isfile(self.MDQSAR_directory+file_names[initial]): \n",
    "                        each_cpd = pd.read_csv(self.MDQSAR_directory+file_names[initial]).astype(float)\n",
    "                        df = each_cpd.fillna(0)\n",
    "                        scaler = MinMaxScaler()\n",
    "                        each_cpd_scaled = scaler.fit_transform(df)\n",
    "                        pre_data.append(each_cpd_scaled)\n",
    "                        labels.append(self.cpd_data_labels[file_names[initial][:-4]])\n",
    "                        initial += 1\n",
    "            pre_data = np.nan_to_num(np.array(pre_data))\n",
    "            shaped_data = pre_data.reshape((pre_data.shape[0], pre_data.shape[1] * pre_data.shape[2]))\n",
    "            scaler = MinMaxScaler(feature_range=(0, 1))\n",
    "            final_data = scaler.fit_transform(shaped_data)\n",
    "            yield final_data, labels\n",
    "      \n",
    "    def read_data(self, files):\n",
    "        '''\n",
    "        Given a list of file names, extract the descriptors. \n",
    "        Fill missing values with zeros, scale the data from zero to 1 column by column. \n",
    "        Return the processed data and the endpoints (in other words, labels).\n",
    "        '''\n",
    "        pre_data = []\n",
    "        labels = []\n",
    "        for i in files:\n",
    "            each_cpd = pd.read_csv(self.MDQSAR_directory+i,engine='python').astype(float)\n",
    "            df = each_cpd.fillna(0)\n",
    "            scaler = preprocessing.MinMaxScaler()\n",
    "            each_cpd_scaled = scaler.fit_transform(df)\n",
    "            pre_data.append(each_cpd_scaled)\n",
    "            labels.append(self.cpd_data_labels[i[:-4]])\n",
    "        pre_data = np.nan_to_num(np.array(pre_data))\n",
    "        shaped_data = pre_data.reshape((pre_data.shape[0], pre_data.shape[1] * pre_data.shape[2]))\n",
    "        scaler = preprocessing.MinMaxScaler()\n",
    "        data = scaler.fit_transform(shaped_data)\n",
    "        return data, labels\n",
    "    \n",
    "    def split_partitions(self, filenames, folds):\n",
    "        '''\n",
    "        The following function splits the data into k different folds, given a list of compound names and the number of partitions.\n",
    "        There will be two outputs: one folds (test sets) and k-1 folds (train sets). \n",
    "        '''\n",
    "        num_val_samples = len(filenames) // folds+1\n",
    "        one_fold = []\n",
    "        nine_folds = []\n",
    "        for i in range(folds):\n",
    "            one_fold_data = filenames[i * num_val_samples: (i + 1) * num_val_samples] # prepares the validation data: data from partition # k\n",
    "            one_fold.append(one_fold_data)\n",
    "            \n",
    "            nine_fold_data = np.concatenate([filenames[:i * num_val_samples],filenames[(i + 1) * num_val_samples:]],axis=0).tolist() # prepares the training data: data from all other partitions\n",
    "            nine_folds.append(nine_fold_data)\n",
    "        return one_fold, nine_folds \n",
    "      "
   ]
  },
  {
   "cell_type": "code",
   "execution_count": 3,
   "metadata": {},
   "outputs": [
    {
     "name": "stdout",
     "output_type": "stream",
     "text": [
      "['CHEMBL3689722.csv', 'CHEMBL3689625.csv', 'CHEMBL3689656.csv', 'CHEMBL3689646.csv', 'CHEMBL3689664.csv', 'CHEMBL3689648.csv', 'CHEMBL3689672.csv', 'CHEMBL3689705.csv', 'CHEMBL3689713.csv', 'CHEMBL3690082.csv', 'CHEMBL3689693.csv', 'CHEMBL3689737.csv', 'CHEMBL3689663.csv', 'CHEMBL3690077.csv', 'CHEMBL3689597.csv', 'CHEMBL3689603.csv', 'CHEMBL3689616.csv', 'CHEMBL3689697.csv', 'CHEMBL3689662.csv', 'CHEMBL3689614.csv', 'CHEMBL3689677.csv', 'CHEMBL3689708.csv', 'CHEMBL3689704.csv', 'CHEMBL3689749.csv', 'CHEMBL3689682.csv', 'CHEMBL3689666.csv', 'CHEMBL3689612.csv', 'CHEMBL3689716.csv', 'CHEMBL3689659.csv', 'CHEMBL3689633.csv', 'CHEMBL3689618.csv', 'CHEMBL3689622.csv', 'CHEMBL3689684.csv', 'CHEMBL3689710.csv', 'CHEMBL3689686.csv', 'CHEMBL3689738.csv', 'CHEMBL3689627.csv', 'CHEMBL3689606.csv', 'CHEMBL3690076.csv', 'CHEMBL3689611.csv', 'CHEMBL3689703.csv', 'CHEMBL3689632.csv', 'CHEMBL3689615.csv', 'CHEMBL3689706.csv', 'CHEMBL3689723.csv', 'CHEMBL3689735.csv', 'CHEMBL3689653.csv', 'CHEMBL3689701.csv', 'CHEMBL3689602.csv', 'CHEMBL3689637.csv', 'CHEMBL3689739.csv', 'CHEMBL3689724.csv', 'CHEMBL3689604.csv', 'CHEMBL3689707.csv', 'CHEMBL3689631.csv', 'CHEMBL3689702.csv', 'CHEMBL3689661.csv', 'CHEMBL3689628.csv', 'CHEMBL3689742.csv', 'CHEMBL3689740.csv', 'CHEMBL3689718.csv', 'CHEMBL3689700.csv', 'CHEMBL3689613.csv', 'CHEMBL3689621.csv', 'CHEMBL3689608.csv', 'CHEMBL3689649.csv', 'CHEMBL3689681.csv', 'CHEMBL3689619.csv', 'CHEMBL3689736.csv', 'CHEMBL3689668.csv', 'CHEMBL3689699.csv', 'CHEMBL3689643.csv', 'CHEMBL3689635.csv', 'CHEMBL3689652.csv', 'CHEMBL3689630.csv', 'CHEMBL3690075.csv', 'CHEMBL3689683.csv', 'CHEMBL3689747.csv', 'CHEMBL3689607.csv', 'CHEMBL3689755.csv', 'CHEMBL3689636.csv', 'CHEMBL3689650.csv', 'CHEMBL3689641.csv', 'CHEMBL3689642.csv', 'CHEMBL3689746.csv', 'CHEMBL3689671.csv', 'CHEMBL3689651.csv', 'CHEMBL3689629.csv', 'CHEMBL3689601.csv', 'CHEMBL3689685.csv', 'CHEMBL3689655.csv', 'CHEMBL3689680.csv', 'CHEMBL3689594.csv', 'CHEMBL3690081.csv', 'CHEMBL3689596.csv', 'CHEMBL3689676.csv', 'CHEMBL3689645.csv', 'CHEMBL3689675.csv', 'CHEMBL3689690.csv', 'CHEMBL3689729.csv', 'CHEMBL3689687.csv', 'CHEMBL3689644.csv', 'CHEMBL3689754.csv', 'CHEMBL3689745.csv', 'CHEMBL3689669.csv', 'CHEMBL3689727.csv', 'CHEMBL3689751.csv', 'CHEMBL3689599.csv', 'CHEMBL3689726.csv', 'CHEMBL3689610.csv', 'CHEMBL3689605.csv', 'CHEMBL3689679.csv', 'CHEMBL3689670.csv', 'CHEMBL3689744.csv', 'CHEMBL3689712.csv', 'CHEMBL3689667.csv', 'CHEMBL3689598.csv', 'CHEMBL3689721.csv', 'CHEMBL3690074.csv', 'CHEMBL3689694.csv', 'CHEMBL3689673.csv', 'CHEMBL3689639.csv', 'CHEMBL3689719.csv', 'CHEMBL3689674.csv', 'CHEMBL3689660.csv', 'CHEMBL3689678.csv', 'CHEMBL3690083.csv', 'CHEMBL3689654.csv', 'CHEMBL3689626.csv', 'CHEMBL3689715.csv', 'CHEMBL3689617.csv', 'CHEMBL3689752.csv', 'CHEMBL3690080.csv', 'CHEMBL3689647.csv', 'CHEMBL3690078.csv', 'CHEMBL3690073.csv', 'CHEMBL3689638.csv', 'CHEMBL3689709.csv', 'CHEMBL3689717.csv', 'CHEMBL3689689.csv', 'CHEMBL3689720.csv', 'CHEMBL3689688.csv', 'CHEMBL3689695.csv', 'CHEMBL3689623.csv', 'CHEMBL3689741.csv', 'CHEMBL3689624.csv', 'CHEMBL3689609.csv', 'CHEMBL3689725.csv', 'CHEMBL3689692.csv', 'CHEMBL3689658.csv', 'CHEMBL3689730.csv', 'CHEMBL3689743.csv', 'CHEMBL3689748.csv', 'CHEMBL3689753.csv', 'CHEMBL3689750.csv', 'CHEMBL3689728.csv', 'CHEMBL3689732.csv', 'CHEMBL3689620.csv', 'CHEMBL3689731.csv', 'CHEMBL3689714.csv', 'CHEMBL3689691.csv', 'CHEMBL3689698.csv', 'CHEMBL3689595.csv', 'CHEMBL3689696.csv', 'CHEMBL3689600.csv', 'CHEMBL3689665.csv', 'CHEMBL3689634.csv', 'CHEMBL3689657.csv', 'CHEMBL3689711.csv', 'CHEMBL3689640.csv']\n"
     ]
    }
   ],
   "source": [
    "# Get a list of cpd file names in the MD_Data directory.\n",
    "\n",
    "directory = \"MD_Data/\"\n",
    "cpd_files     = os.listdir(directory)\n",
    "\n",
    "# Shuffle the names of the cpd files.\n",
    "cpd_files = shuffle(cpd_files, random_state=65)\n",
    "print(cpd_files)"
   ]
  },
  {
   "cell_type": "code",
   "execution_count": 7,
   "metadata": {},
   "outputs": [],
   "source": [
    "outer_k = 5\n",
    "\n",
    "sample = MDframes_DL()\n",
    "test_fold, train_fold = sample.split_partitions(cpd_files, outer_k)"
   ]
  },
  {
   "cell_type": "code",
   "execution_count": 8,
   "metadata": {},
   "outputs": [
    {
     "data": {
      "text/plain": [
       "(35, 135)"
      ]
     },
     "execution_count": 8,
     "metadata": {},
     "output_type": "execute_result"
    }
   ],
   "source": [
    "len(test_fold[0]), len(train_fold[0])"
   ]
  },
  {
   "cell_type": "markdown",
   "metadata": {},
   "source": [
    "Perform k-fold CV with RF algorithm. "
   ]
  },
  {
   "cell_type": "code",
   "execution_count": 10,
   "metadata": {},
   "outputs": [],
   "source": [
    "outerCV_targets = []\n",
    "outerCV_predictions = []\n",
    "outerCV_IDs = [] \n",
    "\n",
    "for i in range(outer_k):\n",
    "\n",
    "    outer_train = train_fold[i]\n",
    "    outer_test  = test_fold[i]\n",
    "    \n",
    "    outerCV_test_data, outerCV_test_targets = sample.read_data(outer_test)\n",
    "    outerCV_train_data, outerCV_train_targets = sample.read_data(outer_train)\n",
    "    \n",
    "    cv_rf = RandomForestRegressor(n_estimators= 100, \n",
    "                                  max_depth = 5, \n",
    "                                  max_features = 'auto', \n",
    "                                  min_samples_leaf = 1, \n",
    "                                  min_samples_split = 5,\n",
    "                                  bootstrap = True, \n",
    "                                  criterion=\"mae\", \n",
    "                                  n_jobs = -1)\n",
    "    # Fit the random search model\n",
    "    cv_rf.fit(outerCV_train_data,outerCV_train_targets)\n",
    "\n",
    "    outerCV_test_predictions = cv_rf.predict(outerCV_test_data).tolist()\n",
    "    outerCV_predictions.append(outerCV_test_predictions)\n",
    "    outerCV_targets.append(outerCV_test_targets)\n",
    "    outerCV_IDs.append(outer_test)\n",
    "    "
   ]
  },
  {
   "cell_type": "code",
   "execution_count": 12,
   "metadata": {},
   "outputs": [],
   "source": [
    "outerCV_targets_combined  = list(itertools.chain.from_iterable(outerCV_targets))\n",
    "outerCV_predictions_combined = list(itertools.chain.from_iterable(outerCV_predictions))\n",
    "outerCV_IDs_combined = list(itertools.chain.from_iterable(outerCV_IDs))"
   ]
  },
  {
   "cell_type": "code",
   "execution_count": 16,
   "metadata": {},
   "outputs": [
    {
     "name": "stdout",
     "output_type": "stream",
     "text": [
      "rms error is: 0.88\n",
      "r2 value is: 0.07\n"
     ]
    }
   ],
   "source": [
    "rms = mean_squared_error(outerCV_targets_combined, outerCV_predictions_combined, squared=False)\n",
    "print(f\"rms error is: {rms:.2f}\")\n",
    "\n",
    "r2 = r2_score(outerCV_targets_combined, outerCV_predictions_combined)\n",
    "print(f\"r2 value is: {r2:.2f}\")"
   ]
  },
  {
   "cell_type": "code",
   "execution_count": 17,
   "metadata": {},
   "outputs": [
    {
     "data": {
      "image/png": "[encoded data removed]",
      "text/plain": [
       "<Figure size 432x288 with 1 Axes>"
      ]
     },
     "metadata": {
      "needs_background": "light"
     },
     "output_type": "display_data"
    }
   ],
   "source": [
    "import matplotlib.pyplot as plt\n",
    "\n",
    "fig, ax = plt.subplots()\n",
    "x = outerCV_targets_combined\n",
    "ax.scatter(x, outerCV_predictions_combined, edgecolors=(0,0,0))\n",
    "ax.plot([min(x), max(x)],[min(x), max(x)],'k--', lw=4)\n",
    "ax.set_xlabel('Measured')\n",
    "ax.set_ylabel('Predicted')\n",
    "plt.rcParams[\"figure.dpi\"] = 300\n",
    "plt.show()"
   ]
  },
  {
   "cell_type": "code",
   "execution_count": null,
   "metadata": {},
   "outputs": [],
   "source": [
    "outerCV_targets_combined  = list(itertools.chain.from_iterable(outerCV_targets))\n",
    "outerCV_predictions_combined = list(itertools.chain.from_iterable(outerCV_predictions))\n",
    "outerCV_IDs_combined = list(itertools.chain.from_iterable(outerCV_IDs))\n",
    "\n",
    "cv_frame = pd.DataFrame()\n",
    "cv_frame['IDs'] = outerCV_IDs_combined\n",
    "cv_frame['ExperimentalAff'] = outerCV_targets_combined\n",
    "cv_frame['PredictedAff'] = outerCV_predictions_combined\n",
    "\n",
    "cv_frame.to_csv(directory+'RF_CV_BestModel_Predictions.csv',index=False)"
   ]
  }
 ],
 "metadata": {
  "kernelspec": {
   "display_name": "Python 3",
   "language": "python",
   "name": "python3"
  },
  "language_info": {
   "codemirror_mode": {
    "name": "ipython",
    "version": 3
   },
   "file_extension": ".py",
   "mimetype": "text/x-python",
   "name": "python",
   "nbconvert_exporter": "python",
   "pygments_lexer": "ipython3",
   "version": "3.7.9"
  }
 },
 "nbformat": 4,
 "nbformat_minor": 4
}
