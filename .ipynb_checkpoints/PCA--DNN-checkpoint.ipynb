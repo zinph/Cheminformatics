{
 "cells": [
  {
   "cell_type": "code",
   "execution_count": 2,
   "metadata": {},
   "outputs": [
    {
     "name": "stderr",
     "output_type": "stream",
     "text": [
      "Using TensorFlow backend.\n"
     ]
    }
   ],
   "source": [
    "import numpy as np\n",
    "from sklearn.manifold import TSNE\n",
    "import pandas as pd\n",
    "import os\n",
    "import itertools\n",
    "import numpy as np\n",
    "import time\n",
    "\n",
    "from sklearn.utils import shuffle\n",
    "import matplotlib\n",
    "import matplotlib.pyplot as plt\n",
    "from matplotlib import rcParams\n",
    "from mpl_toolkits.mplot3d import Axes3D\n",
    "import matplotlib.pyplot as plt\n",
    "from matplotlib import colors\n",
    "\n",
    "from sklearn.decomposition import PCA\n",
    "\n",
    "from sklearn.preprocessing import MinMaxScaler\n",
    "from sklearn import preprocessing\n",
    "from sklearn.impute import SimpleImputer\n",
    "from sklearn.discriminant_analysis import LinearDiscriminantAnalysis\n",
    "from sklearn.model_selection import KFold\n",
    "from sklearn.model_selection import cross_val_score\n",
    "\n",
    "from sklearn import linear_model\n",
    "from sklearn.svm import SVR\n",
    "from sklearn.neighbors import KNeighborsRegressor\n",
    "from sklearn.ensemble import RandomForestRegressor\n",
    "from sklearn.model_selection import cross_val_score, KFold, train_test_split, RandomizedSearchCV, GridSearchCV\n",
    "\n",
    "import keras\n",
    "from keras import backend as K\n",
    "from keras import models, layers, regularizers\n",
    "from keras.layers import Dense, Conv2D, Flatten, Dropout\n",
    "from keras.layers.advanced_activations import LeakyReLU, PReLU\n",
    "from keras.utils import multi_gpu_model\n",
    "from keras.backend.tensorflow_backend import set_session\n",
    "from keras.backend.tensorflow_backend import clear_session\n",
    "from keras.backend.tensorflow_backend import get_session\n",
    "from keras import initializers\n",
    "import tensorflow"
   ]
  },
  {
   "cell_type": "code",
   "execution_count": 3,
   "metadata": {},
   "outputs": [],
   "source": [
    "def convert_time(second):\n",
    "    day = second/86400\n",
    "    hour = (day - int(day))*24\n",
    "    minute = (hour - int(hour))*60\n",
    "    second = round((minute - int(minute))*60,4)\n",
    "    return(str(int(day)) + ' DAYS: '+ str(int(hour)) + ' HOURS: '+ str(int(minute)) + ' MINUTES: ' + str(second) + ' SECONDS')"
   ]
  },
  {
   "cell_type": "code",
   "execution_count": 4,
   "metadata": {},
   "outputs": [],
   "source": [
    "def data_process(pre_all_data, desc='desc'):\n",
    "    '''\n",
    "    fname should have desc or fing.\n",
    "    Process data based on fingerprint or descriptor. desc = 'fing' for fingerprint, everything else is descriptors. \n",
    "    Return processed data.\n",
    "    '''\n",
    "    \n",
    "    ################ USE THIS FOR BITS / FINGERPRINTS ################\n",
    "    \n",
    "    if 'fing' in desc:\n",
    "    #         all_data = pre_all_data \n",
    "        imputer    = SimpleImputer()\n",
    "        scaler     = preprocessing.MinMaxScaler()\n",
    "        all_data   = scaler.fit_transform(imputer.fit_transform(pre_all_data)) \n",
    "\n",
    "    ################ USE THIS FOR EXPLICIT DESCRIPTORS / FINGERPRINTS ################\n",
    "\n",
    "    else:\n",
    "\n",
    "        # convert the dataframe to numpy array\n",
    "        pre_all_data = pre_all_data.convert_objects(convert_numeric=True)\n",
    "        pre_all_data = pre_all_data.fillna(0)\n",
    "        # all_data_np = pre_all_data.values \n",
    "\n",
    "        # drop numeric columns\n",
    "        temp = pre_all_data.apply(pd.to_numeric,errors='coerce').isnull().any()\n",
    "        numeric_error_columns = [pre_all_data.columns[i] for i in range(len(temp)) if temp[i] == True]\n",
    "        print('Below are the numeric Error Columns. They will be removed. ')\n",
    "        print(numeric_error_columns)\n",
    "        combined_data = pre_all_data.drop(columns=numeric_error_columns)\n",
    "\n",
    "        # preprocess data, normalize columns\n",
    "        imputer    = SimpleImputer()\n",
    "        scaler     = preprocessing.MinMaxScaler()\n",
    "        all_data   = scaler.fit_transform(imputer.fit_transform(combined_data)) \n",
    "\n",
    "        print(\"all_data :\", all_data.shape)\n",
    "    \n",
    "    return all_data"
   ]
  },
  {
   "cell_type": "code",
   "execution_count": 5,
   "metadata": {},
   "outputs": [],
   "source": [
    "def reduce_dimensions(all_data):\n",
    "    '''\n",
    "    Up to 100 dimensions, check and see if we can find variabilities explained up to 95% using PCA.\n",
    "    If so, return the set with reduced dimension.\n",
    "    Else, return the original all_data. \n",
    "    \n",
    "    '''\n",
    "    max_component = all_data.shape[1]\n",
    "    all_components = [int(x) for x in np.linspace(start = 10, stop = 1000, num = 50)]\n",
    "    possible_components = [i for i in all_components if i<max_component]\n",
    "    variablity_explained = 0\n",
    "    i=0\n",
    "    while variablity_explained <=95:\n",
    "        if i>= len(possible_components):\n",
    "            print('Cannot find variability explained above 95% for 100 dimensions.')\n",
    "            pca_result = all_data\n",
    "\n",
    "        else:\n",
    "            pca = PCA(n_components = possible_components[i])\n",
    "            pca_result = pca.fit_transform(all_data)\n",
    "            all_percents = []\n",
    "            for v in pca.explained_variance_ratio_:\n",
    "                each_percent = round(v*100,2)\n",
    "        #         print('Explained variation per principal component: {}%'.format(each_percent))\n",
    "                all_percents.append(each_percent)\n",
    "\n",
    "            variablity_explained = sum(all_percents)\n",
    "            i+=1    \n",
    "\n",
    "        print(variablity_explained, possible_components[i])\n",
    "    return pca_result\n",
    "    "
   ]
  },
  {
   "cell_type": "code",
   "execution_count": 6,
   "metadata": {},
   "outputs": [],
   "source": [
    "def split_partitions(DATA,TARGETS,IDS, folds):\n",
    "    num_val_samples = len(DATA) // folds+1\n",
    "    one_fold = []\n",
    "    nine_folds = []\n",
    "    for i in range(folds):\n",
    "        one_fold_data = DATA[i * num_val_samples: (i + 1) * num_val_samples] # prepares the validation data: data from partition # k\n",
    "        one_fold_targets = TARGETS[i * num_val_samples: (i + 1) * num_val_samples]\n",
    "        one_fold_IDs = IDS[i * num_val_samples: (i + 1) * num_val_samples]\n",
    "        one_fold += [[one_fold_data, one_fold_targets, one_fold_IDs]]\n",
    "        \n",
    "        # prepares the training data: data from all other partitions\n",
    "        nine_fold_data = np.concatenate([DATA[:i * num_val_samples],DATA[(i + 1) * num_val_samples:]],axis=0)\n",
    "        nine_fold_targets = np.concatenate([TARGETS[:i * num_val_samples],TARGETS[(i + 1) * num_val_samples:]],axis=0)\n",
    "        nine_fold_IDs = np.concatenate([IDS[:i * num_val_samples],IDS[(i + 1) * num_val_samples:]],axis=0)\n",
    "        nine_folds += [[nine_fold_data,nine_fold_targets,nine_fold_IDs]]\n",
    "    return one_fold, nine_folds   "
   ]
  },
  {
   "cell_type": "code",
   "execution_count": null,
   "metadata": {},
   "outputs": [],
   "source": [
    "def build_model(shape):\n",
    "    model = models.Sequential()\n",
    "    model.add(layers.Dense(200, input_shape=(shape,)))\n",
    "    model.add(layers.Dense(100, activation ='relu'))\n",
    "    model.add(LeakyReLU(alpha=.001))\n",
    "    model.add(layers.Dense(60, activation ='relu'))\n",
    "    model.add(LeakyReLU(alpha=.001))\n",
    "    model.add(layers.Dropout(0.2))\n",
    "    model.add(layers.Dense(40, activation ='relu'))\n",
    "    model.add(layers.Dense(20, activation ='relu'))\n",
    "    model.add(layers.Dense(1))\n",
    "    model.compile(optimizer='adam',loss='mse',metrics=['mae'])\n",
    "    return model"
   ]
  },
  {
   "cell_type": "code",
   "execution_count": 8,
   "metadata": {
    "scrolled": false
   },
   "outputs": [
    {
     "name": "stdout",
     "output_type": "stream",
     "text": [
      "Processing maccs_fing.csv...\n",
      "76.91000000000001 30\n",
      "95.06000000000002 50\n",
      "Fitting 10 folds for each of 20 candidates, totalling 200 fits\n"
     ]
    },
    {
     "name": "stderr",
     "output_type": "stream",
     "text": [
      "C:\\Users\\sean\\Miniconda3\\envs\\MacrolideDB\\lib\\site-packages\\sklearn\\model_selection\\_search.py:271: UserWarning: The total space of parameters 20 is smaller than n_iter=100. Running 20 iterations. For exhaustive searches, use GridSearchCV.\n",
      "  % (grid_size, self.n_iter, grid_size), UserWarning)\n",
      "[Parallel(n_jobs=2)]: Using backend LokyBackend with 2 concurrent workers.\n",
      "[Parallel(n_jobs=2)]: Done 200 out of 200 | elapsed:    1.4s finished\n",
      "C:\\Users\\sean\\Miniconda3\\envs\\MacrolideDB\\lib\\site-packages\\sklearn\\model_selection\\_search.py:841: DeprecationWarning: The default of the `iid` parameter will change from True to False in version 0.22 and will be removed in 0.24. This will change numeric results when test-set sizes are unequal.\n",
      "  DeprecationWarning)\n",
      "C:\\Users\\sean\\Miniconda3\\envs\\MacrolideDB\\lib\\site-packages\\sklearn\\model_selection\\_search.py:271: UserWarning: The total space of parameters 24 is smaller than n_iter=100. Running 24 iterations. For exhaustive searches, use GridSearchCV.\n",
      "  % (grid_size, self.n_iter, grid_size), UserWarning)\n",
      "[Parallel(n_jobs=2)]: Using backend LokyBackend with 2 concurrent workers.\n"
     ]
    },
    {
     "name": "stdout",
     "output_type": "stream",
     "text": [
      "{'n_iter': 200, 'fit_intercept': True}\n",
      "Fitting 10 folds for each of 24 candidates, totalling 240 fits\n"
     ]
    },
    {
     "name": "stderr",
     "output_type": "stream",
     "text": [
      "[Parallel(n_jobs=2)]: Done 240 out of 240 | elapsed:    1.1s finished\n",
      "C:\\Users\\sean\\Miniconda3\\envs\\MacrolideDB\\lib\\site-packages\\sklearn\\model_selection\\_search.py:841: DeprecationWarning: The default of the `iid` parameter will change from True to False in version 0.22 and will be removed in 0.24. This will change numeric results when test-set sizes are unequal.\n",
      "  DeprecationWarning)\n",
      "C:\\Users\\sean\\Miniconda3\\envs\\MacrolideDB\\lib\\site-packages\\sklearn\\svm\\base.py:196: FutureWarning: The default value of gamma will change from 'auto' to 'scale' in version 0.22 to account better for unscaled features. Set gamma explicitly to 'auto' or 'scale' to avoid this warning.\n",
      "  \"avoid this warning.\", FutureWarning)\n",
      "[Parallel(n_jobs=2)]: Using backend LokyBackend with 2 concurrent workers.\n"
     ]
    },
    {
     "name": "stdout",
     "output_type": "stream",
     "text": [
      "{'shrinking': True, 'degree': 1, 'kernel': 'rbf'}\n",
      "Fitting 10 folds for each of 100 candidates, totalling 1000 fits\n"
     ]
    },
    {
     "name": "stderr",
     "output_type": "stream",
     "text": [
      "[Parallel(n_jobs=2)]: Done 1000 out of 1000 | elapsed:    2.2s finished\n",
      "C:\\Users\\sean\\Miniconda3\\envs\\MacrolideDB\\lib\\site-packages\\sklearn\\model_selection\\_search.py:841: DeprecationWarning: The default of the `iid` parameter will change from True to False in version 0.22 and will be removed in 0.24. This will change numeric results when test-set sizes are unequal.\n",
      "  DeprecationWarning)\n",
      "[Parallel(n_jobs=2)]: Using backend LokyBackend with 2 concurrent workers.\n"
     ]
    },
    {
     "name": "stdout",
     "output_type": "stream",
     "text": [
      "{'n_neighbors': 11, 'algorithm': 'auto', 'weights': 'uniform', 'leaf_size': 60}\n",
      "Fitting 10 folds for each of 100 candidates, totalling 1000 fits\n"
     ]
    },
    {
     "name": "stderr",
     "output_type": "stream",
     "text": [
      "[Parallel(n_jobs=2)]: Done  37 tasks      | elapsed:   27.7s\n",
      "[Parallel(n_jobs=2)]: Done 158 tasks      | elapsed:  1.9min\n",
      "[Parallel(n_jobs=2)]: Done 361 tasks      | elapsed:  4.3min\n",
      "[Parallel(n_jobs=2)]: Done 644 tasks      | elapsed:  7.3min\n",
      "[Parallel(n_jobs=2)]: Done 1000 out of 1000 | elapsed: 11.0min finished\n",
      "C:\\Users\\sean\\Miniconda3\\envs\\MacrolideDB\\lib\\site-packages\\sklearn\\model_selection\\_search.py:841: DeprecationWarning: The default of the `iid` parameter will change from True to False in version 0.22 and will be removed in 0.24. This will change numeric results when test-set sizes are unequal.\n",
      "  DeprecationWarning)\n"
     ]
    },
    {
     "name": "stdout",
     "output_type": "stream",
     "text": [
      "{'max_depth': 10, 'bootstrap': True, 'max_features': 'sqrt', 'n_estimators': 1600, 'min_samples_leaf': 4, 'min_samples_split': 2}\n",
      "Data Partition  0  ...\n"
     ]
    },
    {
     "name": "stderr",
     "output_type": "stream",
     "text": [
      "C:\\Users\\sean\\Miniconda3\\envs\\MacrolideDB\\lib\\site-packages\\sklearn\\svm\\base.py:196: FutureWarning: The default value of gamma will change from 'auto' to 'scale' in version 0.22 to account better for unscaled features. Set gamma explicitly to 'auto' or 'scale' to avoid this warning.\n",
      "  \"avoid this warning.\", FutureWarning)\n"
     ]
    },
    {
     "name": "stdout",
     "output_type": "stream",
     "text": [
      "Data Partition  1  ...\n"
     ]
    },
    {
     "name": "stderr",
     "output_type": "stream",
     "text": [
      "C:\\Users\\sean\\Miniconda3\\envs\\MacrolideDB\\lib\\site-packages\\sklearn\\svm\\base.py:196: FutureWarning: The default value of gamma will change from 'auto' to 'scale' in version 0.22 to account better for unscaled features. Set gamma explicitly to 'auto' or 'scale' to avoid this warning.\n",
      "  \"avoid this warning.\", FutureWarning)\n"
     ]
    },
    {
     "name": "stdout",
     "output_type": "stream",
     "text": [
      "Data Partition  2  ...\n"
     ]
    },
    {
     "name": "stderr",
     "output_type": "stream",
     "text": [
      "C:\\Users\\sean\\Miniconda3\\envs\\MacrolideDB\\lib\\site-packages\\sklearn\\svm\\base.py:196: FutureWarning: The default value of gamma will change from 'auto' to 'scale' in version 0.22 to account better for unscaled features. Set gamma explicitly to 'auto' or 'scale' to avoid this warning.\n",
      "  \"avoid this warning.\", FutureWarning)\n"
     ]
    },
    {
     "name": "stdout",
     "output_type": "stream",
     "text": [
      "Data Partition  3  ...\n"
     ]
    },
    {
     "name": "stderr",
     "output_type": "stream",
     "text": [
      "C:\\Users\\sean\\Miniconda3\\envs\\MacrolideDB\\lib\\site-packages\\sklearn\\svm\\base.py:196: FutureWarning: The default value of gamma will change from 'auto' to 'scale' in version 0.22 to account better for unscaled features. Set gamma explicitly to 'auto' or 'scale' to avoid this warning.\n",
      "  \"avoid this warning.\", FutureWarning)\n"
     ]
    },
    {
     "name": "stdout",
     "output_type": "stream",
     "text": [
      "Data Partition  4  ...\n"
     ]
    },
    {
     "name": "stderr",
     "output_type": "stream",
     "text": [
      "C:\\Users\\sean\\Miniconda3\\envs\\MacrolideDB\\lib\\site-packages\\sklearn\\svm\\base.py:196: FutureWarning: The default value of gamma will change from 'auto' to 'scale' in version 0.22 to account better for unscaled features. Set gamma explicitly to 'auto' or 'scale' to avoid this warning.\n",
      "  \"avoid this warning.\", FutureWarning)\n"
     ]
    },
    {
     "name": "stdout",
     "output_type": "stream",
     "text": [
      "Processing ecfp6_fing.csv...\n",
      "53.989999999999995 30\n",
      "74.60000000000002 50\n",
      "83.65000000000003 70\n",
      "88.97000000000004 90\n",
      "92.55000000000004 111\n",
      "95.15000000000003 131\n",
      "Fitting 10 folds for each of 20 candidates, totalling 200 fits\n"
     ]
    },
    {
     "name": "stderr",
     "output_type": "stream",
     "text": [
      "C:\\Users\\sean\\Miniconda3\\envs\\MacrolideDB\\lib\\site-packages\\sklearn\\model_selection\\_search.py:271: UserWarning: The total space of parameters 20 is smaller than n_iter=100. Running 20 iterations. For exhaustive searches, use GridSearchCV.\n",
      "  % (grid_size, self.n_iter, grid_size), UserWarning)\n",
      "[Parallel(n_jobs=2)]: Using backend LokyBackend with 2 concurrent workers.\n",
      "[Parallel(n_jobs=2)]: Done 200 out of 200 | elapsed:    0.7s finished\n",
      "C:\\Users\\sean\\Miniconda3\\envs\\MacrolideDB\\lib\\site-packages\\sklearn\\model_selection\\_search.py:841: DeprecationWarning: The default of the `iid` parameter will change from True to False in version 0.22 and will be removed in 0.24. This will change numeric results when test-set sizes are unequal.\n",
      "  DeprecationWarning)\n",
      "C:\\Users\\sean\\Miniconda3\\envs\\MacrolideDB\\lib\\site-packages\\sklearn\\model_selection\\_search.py:271: UserWarning: The total space of parameters 24 is smaller than n_iter=100. Running 24 iterations. For exhaustive searches, use GridSearchCV.\n",
      "  % (grid_size, self.n_iter, grid_size), UserWarning)\n",
      "[Parallel(n_jobs=2)]: Using backend LokyBackend with 2 concurrent workers.\n"
     ]
    },
    {
     "name": "stdout",
     "output_type": "stream",
     "text": [
      "{'n_iter': 200, 'fit_intercept': True}\n",
      "Fitting 10 folds for each of 24 candidates, totalling 240 fits\n"
     ]
    },
    {
     "name": "stderr",
     "output_type": "stream",
     "text": [
      "[Parallel(n_jobs=2)]: Done 240 out of 240 | elapsed:    4.9s finished\n",
      "C:\\Users\\sean\\Miniconda3\\envs\\MacrolideDB\\lib\\site-packages\\sklearn\\model_selection\\_search.py:841: DeprecationWarning: The default of the `iid` parameter will change from True to False in version 0.22 and will be removed in 0.24. This will change numeric results when test-set sizes are unequal.\n",
      "  DeprecationWarning)\n",
      "C:\\Users\\sean\\Miniconda3\\envs\\MacrolideDB\\lib\\site-packages\\sklearn\\svm\\base.py:196: FutureWarning: The default value of gamma will change from 'auto' to 'scale' in version 0.22 to account better for unscaled features. Set gamma explicitly to 'auto' or 'scale' to avoid this warning.\n",
      "  \"avoid this warning.\", FutureWarning)\n",
      "[Parallel(n_jobs=2)]: Using backend LokyBackend with 2 concurrent workers.\n"
     ]
    },
    {
     "name": "stdout",
     "output_type": "stream",
     "text": [
      "{'shrinking': True, 'degree': 1, 'kernel': 'rbf'}\n",
      "Fitting 10 folds for each of 100 candidates, totalling 1000 fits\n"
     ]
    },
    {
     "name": "stderr",
     "output_type": "stream",
     "text": [
      "[Parallel(n_jobs=2)]: Done 1000 out of 1000 | elapsed:    4.8s finished\n",
      "C:\\Users\\sean\\Miniconda3\\envs\\MacrolideDB\\lib\\site-packages\\sklearn\\model_selection\\_search.py:841: DeprecationWarning: The default of the `iid` parameter will change from True to False in version 0.22 and will be removed in 0.24. This will change numeric results when test-set sizes are unequal.\n",
      "  DeprecationWarning)\n",
      "[Parallel(n_jobs=2)]: Using backend LokyBackend with 2 concurrent workers.\n"
     ]
    },
    {
     "name": "stdout",
     "output_type": "stream",
     "text": [
      "{'n_neighbors': 7, 'algorithm': 'auto', 'weights': 'uniform', 'leaf_size': 20}\n",
      "Fitting 10 folds for each of 100 candidates, totalling 1000 fits\n"
     ]
    },
    {
     "name": "stderr",
     "output_type": "stream",
     "text": [
      "[Parallel(n_jobs=2)]: Done  37 tasks      | elapsed:   50.4s\n",
      "[Parallel(n_jobs=2)]: Done 158 tasks      | elapsed:  3.5min\n",
      "[Parallel(n_jobs=2)]: Done 361 tasks      | elapsed:  8.1min\n",
      "[Parallel(n_jobs=2)]: Done 644 tasks      | elapsed: 14.7min\n",
      "[Parallel(n_jobs=2)]: Done 1000 out of 1000 | elapsed: 21.8min finished\n",
      "C:\\Users\\sean\\Miniconda3\\envs\\MacrolideDB\\lib\\site-packages\\sklearn\\model_selection\\_search.py:841: DeprecationWarning: The default of the `iid` parameter will change from True to False in version 0.22 and will be removed in 0.24. This will change numeric results when test-set sizes are unequal.\n",
      "  DeprecationWarning)\n"
     ]
    },
    {
     "name": "stdout",
     "output_type": "stream",
     "text": [
      "{'max_depth': 10, 'bootstrap': False, 'max_features': 'sqrt', 'n_estimators': 2000, 'min_samples_leaf': 1, 'min_samples_split': 10}\n",
      "Data Partition  0  ...\n"
     ]
    },
    {
     "name": "stderr",
     "output_type": "stream",
     "text": [
      "C:\\Users\\sean\\Miniconda3\\envs\\MacrolideDB\\lib\\site-packages\\sklearn\\svm\\base.py:196: FutureWarning: The default value of gamma will change from 'auto' to 'scale' in version 0.22 to account better for unscaled features. Set gamma explicitly to 'auto' or 'scale' to avoid this warning.\n",
      "  \"avoid this warning.\", FutureWarning)\n"
     ]
    },
    {
     "name": "stdout",
     "output_type": "stream",
     "text": [
      "Data Partition  1  ...\n"
     ]
    },
    {
     "name": "stderr",
     "output_type": "stream",
     "text": [
      "C:\\Users\\sean\\Miniconda3\\envs\\MacrolideDB\\lib\\site-packages\\sklearn\\svm\\base.py:196: FutureWarning: The default value of gamma will change from 'auto' to 'scale' in version 0.22 to account better for unscaled features. Set gamma explicitly to 'auto' or 'scale' to avoid this warning.\n",
      "  \"avoid this warning.\", FutureWarning)\n"
     ]
    },
    {
     "name": "stdout",
     "output_type": "stream",
     "text": [
      "Data Partition  2  ...\n"
     ]
    },
    {
     "name": "stderr",
     "output_type": "stream",
     "text": [
      "C:\\Users\\sean\\Miniconda3\\envs\\MacrolideDB\\lib\\site-packages\\sklearn\\svm\\base.py:196: FutureWarning: The default value of gamma will change from 'auto' to 'scale' in version 0.22 to account better for unscaled features. Set gamma explicitly to 'auto' or 'scale' to avoid this warning.\n",
      "  \"avoid this warning.\", FutureWarning)\n"
     ]
    },
    {
     "name": "stdout",
     "output_type": "stream",
     "text": [
      "Data Partition  3  ...\n"
     ]
    },
    {
     "name": "stderr",
     "output_type": "stream",
     "text": [
      "C:\\Users\\sean\\Miniconda3\\envs\\MacrolideDB\\lib\\site-packages\\sklearn\\svm\\base.py:196: FutureWarning: The default value of gamma will change from 'auto' to 'scale' in version 0.22 to account better for unscaled features. Set gamma explicitly to 'auto' or 'scale' to avoid this warning.\n",
      "  \"avoid this warning.\", FutureWarning)\n"
     ]
    },
    {
     "name": "stdout",
     "output_type": "stream",
     "text": [
      "Data Partition  4  ...\n"
     ]
    },
    {
     "name": "stderr",
     "output_type": "stream",
     "text": [
      "C:\\Users\\sean\\Miniconda3\\envs\\MacrolideDB\\lib\\site-packages\\sklearn\\svm\\base.py:196: FutureWarning: The default value of gamma will change from 'auto' to 'scale' in version 0.22 to account better for unscaled features. Set gamma explicitly to 'auto' or 'scale' to avoid this warning.\n",
      "  \"avoid this warning.\", FutureWarning)\n"
     ]
    },
    {
     "name": "stdout",
     "output_type": "stream",
     "text": [
      "Processing mordred_desc.csv...\n"
     ]
    },
    {
     "name": "stderr",
     "output_type": "stream",
     "text": [
      "C:\\Users\\sean\\Miniconda3\\envs\\MacrolideDB\\lib\\site-packages\\ipykernel_launcher.py:21: FutureWarning: convert_objects is deprecated.  To re-infer data dtypes for object columns, use DataFrame.infer_objects()\n",
      "For all other conversions use the data-type specific converters pd.to_datetime, pd.to_timedelta and pd.to_numeric.\n"
     ]
    },
    {
     "name": "stdout",
     "output_type": "stream",
     "text": [
      "Below are the numeric Error Columns. They will be removed. \n",
      "['MAXsLi', 'MAXssBe', 'MAXssssBe', 'MAXssBH', 'MAXsssB', 'MAXssssB', 'MAXddC', 'MAXsNH3', 'MAXssNH2', 'MAXdNH', 'MAXaaNH', 'MAXsssNH', 'MAXssssN', 'MAXsSiH3', 'MAXssSiH2', 'MAXsssSiH', 'MAXssssSi', 'MAXsPH2', 'MAXssPH', 'MAXsssP', 'MAXdsssP', 'MAXsssssP', 'MAXsSH', 'MAXdssS', 'MAXsGeH3', 'MAXssGeH2', 'MAXsssGeH', 'MAXssssGe', 'MAXsAsH2', 'MAXssAsH', 'MAXsssAs', 'MAXsssdAs', 'MAXsssssAs', 'MAXsSeH', 'MAXdSe', 'MAXssSe', 'MAXaaSe', 'MAXdssSe', 'MAXddssSe', 'MAXsSnH3', 'MAXssSnH2', 'MAXsssSnH', 'MAXssssSn', 'MAXsI', 'MAXsPbH3', 'MAXssPbH2', 'MAXsssPbH', 'MAXssssPb', 'MINsLi', 'MINssBe', 'MINssssBe', 'MINssBH', 'MINsssB', 'MINssssB', 'MINddC', 'MINsNH3', 'MINssNH2', 'MINdNH', 'MINaaNH', 'MINsssNH', 'MINssssN', 'MINsSiH3', 'MINssSiH2', 'MINsssSiH', 'MINssssSi', 'MINsPH2', 'MINssPH', 'MINsssP', 'MINdsssP', 'MINsssssP', 'MINsSH', 'MINdssS', 'MINsGeH3', 'MINssGeH2', 'MINsssGeH', 'MINssssGe', 'MINsAsH2', 'MINssAsH', 'MINsssAs', 'MINsssdAs', 'MINsssssAs', 'MINsSeH', 'MINdSe', 'MINssSe', 'MINaaSe', 'MINdssSe', 'MINddssSe', 'MINsSnH3', 'MINssSnH2', 'MINsssSnH', 'MINssssSn', 'MINsI', 'MINsPbH3', 'MINssPbH2', 'MINsssPbH', 'MINssssPb']\n",
      "all_data : (241, 1517)\n",
      "80.2 30\n",
      "95.03000000000003 50\n",
      "Fitting 10 folds for each of 20 candidates, totalling 200 fits\n"
     ]
    },
    {
     "name": "stderr",
     "output_type": "stream",
     "text": [
      "C:\\Users\\sean\\Miniconda3\\envs\\MacrolideDB\\lib\\site-packages\\sklearn\\model_selection\\_search.py:271: UserWarning: The total space of parameters 20 is smaller than n_iter=100. Running 20 iterations. For exhaustive searches, use GridSearchCV.\n",
      "  % (grid_size, self.n_iter, grid_size), UserWarning)\n",
      "[Parallel(n_jobs=2)]: Using backend LokyBackend with 2 concurrent workers.\n",
      "[Parallel(n_jobs=2)]: Done 200 out of 200 | elapsed:    0.2s finished\n",
      "C:\\Users\\sean\\Miniconda3\\envs\\MacrolideDB\\lib\\site-packages\\sklearn\\model_selection\\_search.py:841: DeprecationWarning: The default of the `iid` parameter will change from True to False in version 0.22 and will be removed in 0.24. This will change numeric results when test-set sizes are unequal.\n",
      "  DeprecationWarning)\n",
      "C:\\Users\\sean\\Miniconda3\\envs\\MacrolideDB\\lib\\site-packages\\sklearn\\model_selection\\_search.py:271: UserWarning: The total space of parameters 24 is smaller than n_iter=100. Running 24 iterations. For exhaustive searches, use GridSearchCV.\n",
      "  % (grid_size, self.n_iter, grid_size), UserWarning)\n",
      "[Parallel(n_jobs=2)]: Using backend LokyBackend with 2 concurrent workers.\n"
     ]
    },
    {
     "name": "stdout",
     "output_type": "stream",
     "text": [
      "{'n_iter': 200, 'fit_intercept': True}\n",
      "Fitting 10 folds for each of 24 candidates, totalling 240 fits\n"
     ]
    },
    {
     "name": "stderr",
     "output_type": "stream",
     "text": [
      "[Parallel(n_jobs=2)]: Done 240 out of 240 | elapsed:    1.8s finished\n",
      "C:\\Users\\sean\\Miniconda3\\envs\\MacrolideDB\\lib\\site-packages\\sklearn\\model_selection\\_search.py:841: DeprecationWarning: The default of the `iid` parameter will change from True to False in version 0.22 and will be removed in 0.24. This will change numeric results when test-set sizes are unequal.\n",
      "  DeprecationWarning)\n",
      "C:\\Users\\sean\\Miniconda3\\envs\\MacrolideDB\\lib\\site-packages\\sklearn\\svm\\base.py:196: FutureWarning: The default value of gamma will change from 'auto' to 'scale' in version 0.22 to account better for unscaled features. Set gamma explicitly to 'auto' or 'scale' to avoid this warning.\n",
      "  \"avoid this warning.\", FutureWarning)\n",
      "[Parallel(n_jobs=2)]: Using backend LokyBackend with 2 concurrent workers.\n"
     ]
    },
    {
     "name": "stdout",
     "output_type": "stream",
     "text": [
      "{'shrinking': True, 'degree': 1, 'kernel': 'rbf'}\n",
      "Fitting 10 folds for each of 100 candidates, totalling 1000 fits\n"
     ]
    },
    {
     "name": "stderr",
     "output_type": "stream",
     "text": [
      "[Parallel(n_jobs=2)]: Done 1000 out of 1000 | elapsed:    2.0s finished\n",
      "C:\\Users\\sean\\Miniconda3\\envs\\MacrolideDB\\lib\\site-packages\\sklearn\\model_selection\\_search.py:841: DeprecationWarning: The default of the `iid` parameter will change from True to False in version 0.22 and will be removed in 0.24. This will change numeric results when test-set sizes are unequal.\n",
      "  DeprecationWarning)\n",
      "[Parallel(n_jobs=2)]: Using backend LokyBackend with 2 concurrent workers.\n"
     ]
    },
    {
     "name": "stdout",
     "output_type": "stream",
     "text": [
      "{'n_neighbors': 3, 'algorithm': 'auto', 'weights': 'uniform', 'leaf_size': 80}\n",
      "Fitting 10 folds for each of 100 candidates, totalling 1000 fits\n"
     ]
    },
    {
     "name": "stderr",
     "output_type": "stream",
     "text": [
      "[Parallel(n_jobs=2)]: Done  37 tasks      | elapsed:   25.6s\n",
      "[Parallel(n_jobs=2)]: Done 158 tasks      | elapsed:  1.7min\n",
      "[Parallel(n_jobs=2)]: Done 361 tasks      | elapsed:  4.0min\n",
      "[Parallel(n_jobs=2)]: Done 644 tasks      | elapsed:  6.9min\n",
      "[Parallel(n_jobs=2)]: Done 1000 out of 1000 | elapsed: 10.4min finished\n",
      "C:\\Users\\sean\\Miniconda3\\envs\\MacrolideDB\\lib\\site-packages\\sklearn\\model_selection\\_search.py:841: DeprecationWarning: The default of the `iid` parameter will change from True to False in version 0.22 and will be removed in 0.24. This will change numeric results when test-set sizes are unequal.\n",
      "  DeprecationWarning)\n"
     ]
    },
    {
     "name": "stdout",
     "output_type": "stream",
     "text": [
      "{'max_depth': 80, 'bootstrap': False, 'max_features': 'sqrt', 'n_estimators': 400, 'min_samples_leaf': 4, 'min_samples_split': 10}\n",
      "Data Partition  0  ...\n"
     ]
    },
    {
     "name": "stderr",
     "output_type": "stream",
     "text": [
      "C:\\Users\\sean\\Miniconda3\\envs\\MacrolideDB\\lib\\site-packages\\sklearn\\svm\\base.py:196: FutureWarning: The default value of gamma will change from 'auto' to 'scale' in version 0.22 to account better for unscaled features. Set gamma explicitly to 'auto' or 'scale' to avoid this warning.\n",
      "  \"avoid this warning.\", FutureWarning)\n"
     ]
    },
    {
     "name": "stdout",
     "output_type": "stream",
     "text": [
      "Data Partition  1  ...\n"
     ]
    },
    {
     "name": "stderr",
     "output_type": "stream",
     "text": [
      "C:\\Users\\sean\\Miniconda3\\envs\\MacrolideDB\\lib\\site-packages\\sklearn\\svm\\base.py:196: FutureWarning: The default value of gamma will change from 'auto' to 'scale' in version 0.22 to account better for unscaled features. Set gamma explicitly to 'auto' or 'scale' to avoid this warning.\n",
      "  \"avoid this warning.\", FutureWarning)\n"
     ]
    },
    {
     "name": "stdout",
     "output_type": "stream",
     "text": [
      "Data Partition  2  ...\n"
     ]
    },
    {
     "name": "stderr",
     "output_type": "stream",
     "text": [
      "C:\\Users\\sean\\Miniconda3\\envs\\MacrolideDB\\lib\\site-packages\\sklearn\\svm\\base.py:196: FutureWarning: The default value of gamma will change from 'auto' to 'scale' in version 0.22 to account better for unscaled features. Set gamma explicitly to 'auto' or 'scale' to avoid this warning.\n",
      "  \"avoid this warning.\", FutureWarning)\n"
     ]
    },
    {
     "name": "stdout",
     "output_type": "stream",
     "text": [
      "Data Partition  3  ...\n"
     ]
    },
    {
     "name": "stderr",
     "output_type": "stream",
     "text": [
      "C:\\Users\\sean\\Miniconda3\\envs\\MacrolideDB\\lib\\site-packages\\sklearn\\svm\\base.py:196: FutureWarning: The default value of gamma will change from 'auto' to 'scale' in version 0.22 to account better for unscaled features. Set gamma explicitly to 'auto' or 'scale' to avoid this warning.\n",
      "  \"avoid this warning.\", FutureWarning)\n"
     ]
    },
    {
     "name": "stdout",
     "output_type": "stream",
     "text": [
      "Data Partition  4  ...\n"
     ]
    },
    {
     "name": "stderr",
     "output_type": "stream",
     "text": [
      "C:\\Users\\sean\\Miniconda3\\envs\\MacrolideDB\\lib\\site-packages\\sklearn\\svm\\base.py:196: FutureWarning: The default value of gamma will change from 'auto' to 'scale' in version 0.22 to account better for unscaled features. Set gamma explicitly to 'auto' or 'scale' to avoid this warning.\n",
      "  \"avoid this warning.\", FutureWarning)\n"
     ]
    },
    {
     "name": "stdout",
     "output_type": "stream",
     "text": [
      "Processing 2Drdkit_desc.csv...\n",
      "Below are the numeric Error Columns. They will be removed. \n",
      "[]\n",
      "all_data : (241, 115)\n",
      "83.91999999999999 30\n",
      "98.55000000000001 50\n",
      "Fitting 10 folds for each of 20 candidates, totalling 200 fits\n"
     ]
    },
    {
     "name": "stderr",
     "output_type": "stream",
     "text": [
      "C:\\Users\\sean\\Miniconda3\\envs\\MacrolideDB\\lib\\site-packages\\ipykernel_launcher.py:21: FutureWarning: convert_objects is deprecated.  To re-infer data dtypes for object columns, use DataFrame.infer_objects()\n",
      "For all other conversions use the data-type specific converters pd.to_datetime, pd.to_timedelta and pd.to_numeric.\n",
      "C:\\Users\\sean\\Miniconda3\\envs\\MacrolideDB\\lib\\site-packages\\sklearn\\model_selection\\_search.py:271: UserWarning: The total space of parameters 20 is smaller than n_iter=100. Running 20 iterations. For exhaustive searches, use GridSearchCV.\n",
      "  % (grid_size, self.n_iter, grid_size), UserWarning)\n",
      "[Parallel(n_jobs=2)]: Using backend LokyBackend with 2 concurrent workers.\n",
      "[Parallel(n_jobs=2)]: Done 200 out of 200 | elapsed:    0.2s finished\n",
      "C:\\Users\\sean\\Miniconda3\\envs\\MacrolideDB\\lib\\site-packages\\sklearn\\model_selection\\_search.py:841: DeprecationWarning: The default of the `iid` parameter will change from True to False in version 0.22 and will be removed in 0.24. This will change numeric results when test-set sizes are unequal.\n",
      "  DeprecationWarning)\n",
      "C:\\Users\\sean\\Miniconda3\\envs\\MacrolideDB\\lib\\site-packages\\sklearn\\model_selection\\_search.py:271: UserWarning: The total space of parameters 24 is smaller than n_iter=100. Running 24 iterations. For exhaustive searches, use GridSearchCV.\n",
      "  % (grid_size, self.n_iter, grid_size), UserWarning)\n",
      "[Parallel(n_jobs=2)]: Using backend LokyBackend with 2 concurrent workers.\n"
     ]
    },
    {
     "name": "stdout",
     "output_type": "stream",
     "text": [
      "{'n_iter': 200, 'fit_intercept': True}\n",
      "Fitting 10 folds for each of 24 candidates, totalling 240 fits\n"
     ]
    },
    {
     "name": "stderr",
     "output_type": "stream",
     "text": [
      "[Parallel(n_jobs=2)]: Done 240 out of 240 | elapsed:    0.7s finished\n",
      "C:\\Users\\sean\\Miniconda3\\envs\\MacrolideDB\\lib\\site-packages\\sklearn\\model_selection\\_search.py:841: DeprecationWarning: The default of the `iid` parameter will change from True to False in version 0.22 and will be removed in 0.24. This will change numeric results when test-set sizes are unequal.\n",
      "  DeprecationWarning)\n",
      "C:\\Users\\sean\\Miniconda3\\envs\\MacrolideDB\\lib\\site-packages\\sklearn\\svm\\base.py:196: FutureWarning: The default value of gamma will change from 'auto' to 'scale' in version 0.22 to account better for unscaled features. Set gamma explicitly to 'auto' or 'scale' to avoid this warning.\n",
      "  \"avoid this warning.\", FutureWarning)\n",
      "[Parallel(n_jobs=2)]: Using backend LokyBackend with 2 concurrent workers.\n"
     ]
    },
    {
     "name": "stdout",
     "output_type": "stream",
     "text": [
      "{'shrinking': True, 'degree': 1, 'kernel': 'rbf'}\n",
      "Fitting 10 folds for each of 100 candidates, totalling 1000 fits\n"
     ]
    },
    {
     "name": "stderr",
     "output_type": "stream",
     "text": [
      "[Parallel(n_jobs=2)]: Done 1000 out of 1000 | elapsed:    2.1s finished\n",
      "C:\\Users\\sean\\Miniconda3\\envs\\MacrolideDB\\lib\\site-packages\\sklearn\\model_selection\\_search.py:841: DeprecationWarning: The default of the `iid` parameter will change from True to False in version 0.22 and will be removed in 0.24. This will change numeric results when test-set sizes are unequal.\n",
      "  DeprecationWarning)\n",
      "[Parallel(n_jobs=2)]: Using backend LokyBackend with 2 concurrent workers.\n"
     ]
    },
    {
     "name": "stdout",
     "output_type": "stream",
     "text": [
      "{'n_neighbors': 3, 'algorithm': 'auto', 'weights': 'uniform', 'leaf_size': 80}\n",
      "Fitting 10 folds for each of 100 candidates, totalling 1000 fits\n"
     ]
    },
    {
     "name": "stderr",
     "output_type": "stream",
     "text": [
      "[Parallel(n_jobs=2)]: Done  37 tasks      | elapsed:   25.3s\n",
      "[Parallel(n_jobs=2)]: Done 158 tasks      | elapsed:  1.7min\n",
      "[Parallel(n_jobs=2)]: Done 361 tasks      | elapsed:  4.0min\n",
      "[Parallel(n_jobs=2)]: Done 644 tasks      | elapsed:  6.9min\n",
      "[Parallel(n_jobs=2)]: Done 1000 out of 1000 | elapsed: 10.5min finished\n",
      "C:\\Users\\sean\\Miniconda3\\envs\\MacrolideDB\\lib\\site-packages\\sklearn\\model_selection\\_search.py:841: DeprecationWarning: The default of the `iid` parameter will change from True to False in version 0.22 and will be removed in 0.24. This will change numeric results when test-set sizes are unequal.\n",
      "  DeprecationWarning)\n"
     ]
    },
    {
     "name": "stdout",
     "output_type": "stream",
     "text": [
      "{'max_depth': 80, 'bootstrap': True, 'max_features': 'auto', 'n_estimators': 1800, 'min_samples_leaf': 2, 'min_samples_split': 2}\n",
      "Data Partition  0  ...\n"
     ]
    },
    {
     "name": "stderr",
     "output_type": "stream",
     "text": [
      "C:\\Users\\sean\\Miniconda3\\envs\\MacrolideDB\\lib\\site-packages\\sklearn\\svm\\base.py:196: FutureWarning: The default value of gamma will change from 'auto' to 'scale' in version 0.22 to account better for unscaled features. Set gamma explicitly to 'auto' or 'scale' to avoid this warning.\n",
      "  \"avoid this warning.\", FutureWarning)\n"
     ]
    },
    {
     "name": "stdout",
     "output_type": "stream",
     "text": [
      "Data Partition  1  ...\n"
     ]
    },
    {
     "name": "stderr",
     "output_type": "stream",
     "text": [
      "C:\\Users\\sean\\Miniconda3\\envs\\MacrolideDB\\lib\\site-packages\\sklearn\\svm\\base.py:196: FutureWarning: The default value of gamma will change from 'auto' to 'scale' in version 0.22 to account better for unscaled features. Set gamma explicitly to 'auto' or 'scale' to avoid this warning.\n",
      "  \"avoid this warning.\", FutureWarning)\n"
     ]
    },
    {
     "name": "stdout",
     "output_type": "stream",
     "text": [
      "Data Partition  2  ...\n"
     ]
    },
    {
     "name": "stderr",
     "output_type": "stream",
     "text": [
      "C:\\Users\\sean\\Miniconda3\\envs\\MacrolideDB\\lib\\site-packages\\sklearn\\svm\\base.py:196: FutureWarning: The default value of gamma will change from 'auto' to 'scale' in version 0.22 to account better for unscaled features. Set gamma explicitly to 'auto' or 'scale' to avoid this warning.\n",
      "  \"avoid this warning.\", FutureWarning)\n"
     ]
    },
    {
     "name": "stdout",
     "output_type": "stream",
     "text": [
      "Data Partition  3  ...\n"
     ]
    },
    {
     "name": "stderr",
     "output_type": "stream",
     "text": [
      "C:\\Users\\sean\\Miniconda3\\envs\\MacrolideDB\\lib\\site-packages\\sklearn\\svm\\base.py:196: FutureWarning: The default value of gamma will change from 'auto' to 'scale' in version 0.22 to account better for unscaled features. Set gamma explicitly to 'auto' or 'scale' to avoid this warning.\n",
      "  \"avoid this warning.\", FutureWarning)\n"
     ]
    },
    {
     "name": "stdout",
     "output_type": "stream",
     "text": [
      "Data Partition  4  ...\n"
     ]
    },
    {
     "name": "stderr",
     "output_type": "stream",
     "text": [
      "C:\\Users\\sean\\Miniconda3\\envs\\MacrolideDB\\lib\\site-packages\\sklearn\\svm\\base.py:196: FutureWarning: The default value of gamma will change from 'auto' to 'scale' in version 0.22 to account better for unscaled features. Set gamma explicitly to 'auto' or 'scale' to avoid this warning.\n",
      "  \"avoid this warning.\", FutureWarning)\n"
     ]
    },
    {
     "name": "stdout",
     "output_type": "stream",
     "text": [
      "Processing mrc_desc.csv...\n",
      "Below are the numeric Error Columns. They will be removed. \n",
      "[]\n",
      "all_data : (241, 91)\n",
      "98.80999999999999 30\n",
      "Fitting 10 folds for each of 20 candidates, totalling 200 fits\n"
     ]
    },
    {
     "name": "stderr",
     "output_type": "stream",
     "text": [
      "C:\\Users\\sean\\Miniconda3\\envs\\MacrolideDB\\lib\\site-packages\\ipykernel_launcher.py:21: FutureWarning: convert_objects is deprecated.  To re-infer data dtypes for object columns, use DataFrame.infer_objects()\n",
      "For all other conversions use the data-type specific converters pd.to_datetime, pd.to_timedelta and pd.to_numeric.\n",
      "C:\\Users\\sean\\Miniconda3\\envs\\MacrolideDB\\lib\\site-packages\\sklearn\\model_selection\\_search.py:271: UserWarning: The total space of parameters 20 is smaller than n_iter=100. Running 20 iterations. For exhaustive searches, use GridSearchCV.\n",
      "  % (grid_size, self.n_iter, grid_size), UserWarning)\n",
      "[Parallel(n_jobs=2)]: Using backend LokyBackend with 2 concurrent workers.\n",
      "[Parallel(n_jobs=2)]: Done 200 out of 200 | elapsed:    0.2s finished\n",
      "C:\\Users\\sean\\Miniconda3\\envs\\MacrolideDB\\lib\\site-packages\\sklearn\\model_selection\\_search.py:841: DeprecationWarning: The default of the `iid` parameter will change from True to False in version 0.22 and will be removed in 0.24. This will change numeric results when test-set sizes are unequal.\n",
      "  DeprecationWarning)\n",
      "C:\\Users\\sean\\Miniconda3\\envs\\MacrolideDB\\lib\\site-packages\\sklearn\\model_selection\\_search.py:271: UserWarning: The total space of parameters 24 is smaller than n_iter=100. Running 24 iterations. For exhaustive searches, use GridSearchCV.\n",
      "  % (grid_size, self.n_iter, grid_size), UserWarning)\n",
      "[Parallel(n_jobs=2)]: Using backend LokyBackend with 2 concurrent workers.\n"
     ]
    },
    {
     "name": "stdout",
     "output_type": "stream",
     "text": [
      "{'n_iter': 200, 'fit_intercept': True}\n",
      "Fitting 10 folds for each of 24 candidates, totalling 240 fits\n"
     ]
    },
    {
     "name": "stderr",
     "output_type": "stream",
     "text": [
      "[Parallel(n_jobs=2)]: Done 240 out of 240 | elapsed:    0.4s finished\n",
      "C:\\Users\\sean\\Miniconda3\\envs\\MacrolideDB\\lib\\site-packages\\sklearn\\model_selection\\_search.py:841: DeprecationWarning: The default of the `iid` parameter will change from True to False in version 0.22 and will be removed in 0.24. This will change numeric results when test-set sizes are unequal.\n",
      "  DeprecationWarning)\n",
      "C:\\Users\\sean\\Miniconda3\\envs\\MacrolideDB\\lib\\site-packages\\sklearn\\svm\\base.py:196: FutureWarning: The default value of gamma will change from 'auto' to 'scale' in version 0.22 to account better for unscaled features. Set gamma explicitly to 'auto' or 'scale' to avoid this warning.\n",
      "  \"avoid this warning.\", FutureWarning)\n",
      "[Parallel(n_jobs=2)]: Using backend LokyBackend with 2 concurrent workers.\n"
     ]
    },
    {
     "name": "stdout",
     "output_type": "stream",
     "text": [
      "{'shrinking': True, 'degree': 1, 'kernel': 'rbf'}\n",
      "Fitting 10 folds for each of 100 candidates, totalling 1000 fits\n"
     ]
    },
    {
     "name": "stderr",
     "output_type": "stream",
     "text": [
      "[Parallel(n_jobs=2)]: Done 1000 out of 1000 | elapsed:    1.4s finished\n",
      "C:\\Users\\sean\\Miniconda3\\envs\\MacrolideDB\\lib\\site-packages\\sklearn\\model_selection\\_search.py:841: DeprecationWarning: The default of the `iid` parameter will change from True to False in version 0.22 and will be removed in 0.24. This will change numeric results when test-set sizes are unequal.\n",
      "  DeprecationWarning)\n",
      "[Parallel(n_jobs=2)]: Using backend LokyBackend with 2 concurrent workers.\n"
     ]
    },
    {
     "name": "stdout",
     "output_type": "stream",
     "text": [
      "{'n_neighbors': 11, 'algorithm': 'auto', 'weights': 'uniform', 'leaf_size': 10}\n",
      "Fitting 10 folds for each of 100 candidates, totalling 1000 fits\n"
     ]
    },
    {
     "name": "stderr",
     "output_type": "stream",
     "text": [
      "[Parallel(n_jobs=2)]: Done  37 tasks      | elapsed:   18.4s\n",
      "[Parallel(n_jobs=2)]: Done 158 tasks      | elapsed:  1.2min\n",
      "[Parallel(n_jobs=2)]: Done 361 tasks      | elapsed:  2.6min\n",
      "[Parallel(n_jobs=2)]: Done 644 tasks      | elapsed:  4.4min\n",
      "[Parallel(n_jobs=2)]: Done 1000 out of 1000 | elapsed:  6.8min finished\n",
      "C:\\Users\\sean\\Miniconda3\\envs\\MacrolideDB\\lib\\site-packages\\sklearn\\model_selection\\_search.py:841: DeprecationWarning: The default of the `iid` parameter will change from True to False in version 0.22 and will be removed in 0.24. This will change numeric results when test-set sizes are unequal.\n",
      "  DeprecationWarning)\n"
     ]
    },
    {
     "name": "stdout",
     "output_type": "stream",
     "text": [
      "{'max_depth': 50, 'bootstrap': True, 'max_features': 'sqrt', 'n_estimators': 800, 'min_samples_leaf': 4, 'min_samples_split': 10}\n",
      "Data Partition  0  ...\n"
     ]
    },
    {
     "name": "stderr",
     "output_type": "stream",
     "text": [
      "C:\\Users\\sean\\Miniconda3\\envs\\MacrolideDB\\lib\\site-packages\\sklearn\\svm\\base.py:196: FutureWarning: The default value of gamma will change from 'auto' to 'scale' in version 0.22 to account better for unscaled features. Set gamma explicitly to 'auto' or 'scale' to avoid this warning.\n",
      "  \"avoid this warning.\", FutureWarning)\n"
     ]
    },
    {
     "name": "stdout",
     "output_type": "stream",
     "text": [
      "Data Partition  1  ...\n"
     ]
    },
    {
     "name": "stderr",
     "output_type": "stream",
     "text": [
      "C:\\Users\\sean\\Miniconda3\\envs\\MacrolideDB\\lib\\site-packages\\sklearn\\svm\\base.py:196: FutureWarning: The default value of gamma will change from 'auto' to 'scale' in version 0.22 to account better for unscaled features. Set gamma explicitly to 'auto' or 'scale' to avoid this warning.\n",
      "  \"avoid this warning.\", FutureWarning)\n"
     ]
    },
    {
     "name": "stdout",
     "output_type": "stream",
     "text": [
      "Data Partition  2  ...\n"
     ]
    },
    {
     "name": "stderr",
     "output_type": "stream",
     "text": [
      "C:\\Users\\sean\\Miniconda3\\envs\\MacrolideDB\\lib\\site-packages\\sklearn\\svm\\base.py:196: FutureWarning: The default value of gamma will change from 'auto' to 'scale' in version 0.22 to account better for unscaled features. Set gamma explicitly to 'auto' or 'scale' to avoid this warning.\n",
      "  \"avoid this warning.\", FutureWarning)\n"
     ]
    },
    {
     "name": "stdout",
     "output_type": "stream",
     "text": [
      "Data Partition  3  ...\n"
     ]
    },
    {
     "name": "stderr",
     "output_type": "stream",
     "text": [
      "C:\\Users\\sean\\Miniconda3\\envs\\MacrolideDB\\lib\\site-packages\\sklearn\\svm\\base.py:196: FutureWarning: The default value of gamma will change from 'auto' to 'scale' in version 0.22 to account better for unscaled features. Set gamma explicitly to 'auto' or 'scale' to avoid this warning.\n",
      "  \"avoid this warning.\", FutureWarning)\n"
     ]
    },
    {
     "name": "stdout",
     "output_type": "stream",
     "text": [
      "Data Partition  4  ...\n"
     ]
    },
    {
     "name": "stderr",
     "output_type": "stream",
     "text": [
      "C:\\Users\\sean\\Miniconda3\\envs\\MacrolideDB\\lib\\site-packages\\sklearn\\svm\\base.py:196: FutureWarning: The default value of gamma will change from 'auto' to 'scale' in version 0.22 to account better for unscaled features. Set gamma explicitly to 'auto' or 'scale' to avoid this warning.\n",
      "  \"avoid this warning.\", FutureWarning)\n"
     ]
    },
    {
     "name": "stdout",
     "output_type": "stream",
     "text": [
      "Processing mordred_mrc_desc.csv...\n"
     ]
    },
    {
     "name": "stderr",
     "output_type": "stream",
     "text": [
      "C:\\Users\\sean\\Miniconda3\\envs\\MacrolideDB\\lib\\site-packages\\ipykernel_launcher.py:21: FutureWarning: convert_objects is deprecated.  To re-infer data dtypes for object columns, use DataFrame.infer_objects()\n",
      "For all other conversions use the data-type specific converters pd.to_datetime, pd.to_timedelta and pd.to_numeric.\n"
     ]
    },
    {
     "name": "stdout",
     "output_type": "stream",
     "text": [
      "Below are the numeric Error Columns. They will be removed. \n",
      "['MAXsLi', 'MAXssBe', 'MAXssssBe', 'MAXssBH', 'MAXsssB', 'MAXssssB', 'MAXddC', 'MAXsNH3', 'MAXssNH2', 'MAXdNH', 'MAXaaNH', 'MAXsssNH', 'MAXssssN', 'MAXsSiH3', 'MAXssSiH2', 'MAXsssSiH', 'MAXssssSi', 'MAXsPH2', 'MAXssPH', 'MAXsssP', 'MAXdsssP', 'MAXsssssP', 'MAXsSH', 'MAXdssS', 'MAXsGeH3', 'MAXssGeH2', 'MAXsssGeH', 'MAXssssGe', 'MAXsAsH2', 'MAXssAsH', 'MAXsssAs', 'MAXsssdAs', 'MAXsssssAs', 'MAXsSeH', 'MAXdSe', 'MAXssSe', 'MAXaaSe', 'MAXdssSe', 'MAXddssSe', 'MAXsSnH3', 'MAXssSnH2', 'MAXsssSnH', 'MAXssssSn', 'MAXsI', 'MAXsPbH3', 'MAXssPbH2', 'MAXsssPbH', 'MAXssssPb', 'MINsLi', 'MINssBe', 'MINssssBe', 'MINssBH', 'MINsssB', 'MINssssB', 'MINddC', 'MINsNH3', 'MINssNH2', 'MINdNH', 'MINaaNH', 'MINsssNH', 'MINssssN', 'MINsSiH3', 'MINssSiH2', 'MINsssSiH', 'MINssssSi', 'MINsPH2', 'MINssPH', 'MINsssP', 'MINdsssP', 'MINsssssP', 'MINsSH', 'MINdssS', 'MINsGeH3', 'MINssGeH2', 'MINsssGeH', 'MINssssGe', 'MINsAsH2', 'MINssAsH', 'MINsssAs', 'MINsssdAs', 'MINsssssAs', 'MINsSeH', 'MINdSe', 'MINssSe', 'MINaaSe', 'MINdssSe', 'MINddssSe', 'MINsSnH3', 'MINssSnH2', 'MINsssSnH', 'MINssssSn', 'MINsI', 'MINsPbH3', 'MINssPbH2', 'MINsssPbH', 'MINssssPb']\n",
      "all_data : (241, 1608)\n",
      "80.04 30\n",
      "94.95 50\n",
      "98.29999999999998 70\n",
      "Fitting 10 folds for each of 20 candidates, totalling 200 fits\n"
     ]
    },
    {
     "name": "stderr",
     "output_type": "stream",
     "text": [
      "C:\\Users\\sean\\Miniconda3\\envs\\MacrolideDB\\lib\\site-packages\\sklearn\\model_selection\\_search.py:271: UserWarning: The total space of parameters 20 is smaller than n_iter=100. Running 20 iterations. For exhaustive searches, use GridSearchCV.\n",
      "  % (grid_size, self.n_iter, grid_size), UserWarning)\n",
      "[Parallel(n_jobs=2)]: Using backend LokyBackend with 2 concurrent workers.\n",
      "[Parallel(n_jobs=2)]: Done 200 out of 200 | elapsed:    0.3s finished\n",
      "C:\\Users\\sean\\Miniconda3\\envs\\MacrolideDB\\lib\\site-packages\\sklearn\\model_selection\\_search.py:841: DeprecationWarning: The default of the `iid` parameter will change from True to False in version 0.22 and will be removed in 0.24. This will change numeric results when test-set sizes are unequal.\n",
      "  DeprecationWarning)\n",
      "C:\\Users\\sean\\Miniconda3\\envs\\MacrolideDB\\lib\\site-packages\\sklearn\\model_selection\\_search.py:271: UserWarning: The total space of parameters 24 is smaller than n_iter=100. Running 24 iterations. For exhaustive searches, use GridSearchCV.\n",
      "  % (grid_size, self.n_iter, grid_size), UserWarning)\n",
      "[Parallel(n_jobs=2)]: Using backend LokyBackend with 2 concurrent workers.\n"
     ]
    },
    {
     "name": "stdout",
     "output_type": "stream",
     "text": [
      "{'n_iter': 200, 'fit_intercept': True}\n",
      "Fitting 10 folds for each of 24 candidates, totalling 240 fits\n"
     ]
    },
    {
     "name": "stderr",
     "output_type": "stream",
     "text": [
      "[Parallel(n_jobs=2)]: Done 240 out of 240 | elapsed:    1.9s finished\n",
      "C:\\Users\\sean\\Miniconda3\\envs\\MacrolideDB\\lib\\site-packages\\sklearn\\model_selection\\_search.py:841: DeprecationWarning: The default of the `iid` parameter will change from True to False in version 0.22 and will be removed in 0.24. This will change numeric results when test-set sizes are unequal.\n",
      "  DeprecationWarning)\n",
      "C:\\Users\\sean\\Miniconda3\\envs\\MacrolideDB\\lib\\site-packages\\sklearn\\svm\\base.py:196: FutureWarning: The default value of gamma will change from 'auto' to 'scale' in version 0.22 to account better for unscaled features. Set gamma explicitly to 'auto' or 'scale' to avoid this warning.\n",
      "  \"avoid this warning.\", FutureWarning)\n",
      "[Parallel(n_jobs=2)]: Using backend LokyBackend with 2 concurrent workers.\n"
     ]
    },
    {
     "name": "stdout",
     "output_type": "stream",
     "text": [
      "{'shrinking': True, 'degree': 1, 'kernel': 'rbf'}\n",
      "Fitting 10 folds for each of 100 candidates, totalling 1000 fits\n"
     ]
    },
    {
     "name": "stderr",
     "output_type": "stream",
     "text": [
      "[Parallel(n_jobs=2)]: Done 1000 out of 1000 | elapsed:    2.6s finished\n",
      "C:\\Users\\sean\\Miniconda3\\envs\\MacrolideDB\\lib\\site-packages\\sklearn\\model_selection\\_search.py:841: DeprecationWarning: The default of the `iid` parameter will change from True to False in version 0.22 and will be removed in 0.24. This will change numeric results when test-set sizes are unequal.\n",
      "  DeprecationWarning)\n",
      "[Parallel(n_jobs=2)]: Using backend LokyBackend with 2 concurrent workers.\n"
     ]
    },
    {
     "name": "stdout",
     "output_type": "stream",
     "text": [
      "{'n_neighbors': 3, 'algorithm': 'auto', 'weights': 'uniform', 'leaf_size': 80}\n",
      "Fitting 10 folds for each of 100 candidates, totalling 1000 fits\n"
     ]
    },
    {
     "name": "stderr",
     "output_type": "stream",
     "text": [
      "[Parallel(n_jobs=2)]: Done  37 tasks      | elapsed:   30.5s\n",
      "[Parallel(n_jobs=2)]: Done 158 tasks      | elapsed:  2.2min\n",
      "[Parallel(n_jobs=2)]: Done 361 tasks      | elapsed:  4.9min\n",
      "[Parallel(n_jobs=2)]: Done 644 tasks      | elapsed:  8.6min\n",
      "[Parallel(n_jobs=2)]: Done 1000 out of 1000 | elapsed: 13.1min finished\n",
      "C:\\Users\\sean\\Miniconda3\\envs\\MacrolideDB\\lib\\site-packages\\sklearn\\model_selection\\_search.py:841: DeprecationWarning: The default of the `iid` parameter will change from True to False in version 0.22 and will be removed in 0.24. This will change numeric results when test-set sizes are unequal.\n",
      "  DeprecationWarning)\n"
     ]
    },
    {
     "name": "stdout",
     "output_type": "stream",
     "text": [
      "{'max_depth': None, 'bootstrap': False, 'max_features': 'sqrt', 'n_estimators': 2000, 'min_samples_leaf': 4, 'min_samples_split': 5}\n",
      "Data Partition  0  ...\n"
     ]
    },
    {
     "name": "stderr",
     "output_type": "stream",
     "text": [
      "C:\\Users\\sean\\Miniconda3\\envs\\MacrolideDB\\lib\\site-packages\\sklearn\\svm\\base.py:196: FutureWarning: The default value of gamma will change from 'auto' to 'scale' in version 0.22 to account better for unscaled features. Set gamma explicitly to 'auto' or 'scale' to avoid this warning.\n",
      "  \"avoid this warning.\", FutureWarning)\n"
     ]
    },
    {
     "name": "stdout",
     "output_type": "stream",
     "text": [
      "Data Partition  1  ...\n"
     ]
    },
    {
     "name": "stderr",
     "output_type": "stream",
     "text": [
      "C:\\Users\\sean\\Miniconda3\\envs\\MacrolideDB\\lib\\site-packages\\sklearn\\svm\\base.py:196: FutureWarning: The default value of gamma will change from 'auto' to 'scale' in version 0.22 to account better for unscaled features. Set gamma explicitly to 'auto' or 'scale' to avoid this warning.\n",
      "  \"avoid this warning.\", FutureWarning)\n"
     ]
    },
    {
     "name": "stdout",
     "output_type": "stream",
     "text": [
      "Data Partition  2  ...\n"
     ]
    },
    {
     "name": "stderr",
     "output_type": "stream",
     "text": [
      "C:\\Users\\sean\\Miniconda3\\envs\\MacrolideDB\\lib\\site-packages\\sklearn\\svm\\base.py:196: FutureWarning: The default value of gamma will change from 'auto' to 'scale' in version 0.22 to account better for unscaled features. Set gamma explicitly to 'auto' or 'scale' to avoid this warning.\n",
      "  \"avoid this warning.\", FutureWarning)\n"
     ]
    },
    {
     "name": "stdout",
     "output_type": "stream",
     "text": [
      "Data Partition  3  ...\n"
     ]
    },
    {
     "name": "stderr",
     "output_type": "stream",
     "text": [
      "C:\\Users\\sean\\Miniconda3\\envs\\MacrolideDB\\lib\\site-packages\\sklearn\\svm\\base.py:196: FutureWarning: The default value of gamma will change from 'auto' to 'scale' in version 0.22 to account better for unscaled features. Set gamma explicitly to 'auto' or 'scale' to avoid this warning.\n",
      "  \"avoid this warning.\", FutureWarning)\n"
     ]
    },
    {
     "name": "stdout",
     "output_type": "stream",
     "text": [
      "Data Partition  4  ...\n"
     ]
    },
    {
     "name": "stderr",
     "output_type": "stream",
     "text": [
      "C:\\Users\\sean\\Miniconda3\\envs\\MacrolideDB\\lib\\site-packages\\sklearn\\svm\\base.py:196: FutureWarning: The default value of gamma will change from 'auto' to 'scale' in version 0.22 to account better for unscaled features. Set gamma explicitly to 'auto' or 'scale' to avoid this warning.\n",
      "  \"avoid this warning.\", FutureWarning)\n"
     ]
    },
    {
     "name": "stdout",
     "output_type": "stream",
     "text": [
      "Processing all_comb.csv...\n"
     ]
    },
    {
     "name": "stderr",
     "output_type": "stream",
     "text": [
      "C:\\Users\\sean\\Miniconda3\\envs\\MacrolideDB\\lib\\site-packages\\ipykernel_launcher.py:21: FutureWarning: convert_objects is deprecated.  To re-infer data dtypes for object columns, use DataFrame.infer_objects()\n",
      "For all other conversions use the data-type specific converters pd.to_datetime, pd.to_timedelta and pd.to_numeric.\n"
     ]
    },
    {
     "name": "stdout",
     "output_type": "stream",
     "text": [
      "Below are the numeric Error Columns. They will be removed. \n",
      "['MAXsLi', 'MAXssBe', 'MAXssssBe', 'MAXssBH', 'MAXsssB', 'MAXssssB', 'MAXddC', 'MAXsNH3', 'MAXssNH2', 'MAXdNH', 'MAXaaNH', 'MAXsssNH', 'MAXssssN', 'MAXsSiH3', 'MAXssSiH2', 'MAXsssSiH', 'MAXssssSi', 'MAXsPH2', 'MAXssPH', 'MAXsssP', 'MAXdsssP', 'MAXsssssP', 'MAXsSH', 'MAXdssS', 'MAXsGeH3', 'MAXssGeH2', 'MAXsssGeH', 'MAXssssGe', 'MAXsAsH2', 'MAXssAsH', 'MAXsssAs', 'MAXsssdAs', 'MAXsssssAs', 'MAXsSeH', 'MAXdSe', 'MAXssSe', 'MAXaaSe', 'MAXdssSe', 'MAXddssSe', 'MAXsSnH3', 'MAXssSnH2', 'MAXsssSnH', 'MAXssssSn', 'MAXsI', 'MAXsPbH3', 'MAXssPbH2', 'MAXsssPbH', 'MAXssssPb', 'MINsLi', 'MINssBe', 'MINssssBe', 'MINssBH', 'MINsssB', 'MINssssB', 'MINddC', 'MINsNH3', 'MINssNH2', 'MINdNH', 'MINaaNH', 'MINsssNH', 'MINssssN', 'MINsSiH3', 'MINssSiH2', 'MINsssSiH', 'MINssssSi', 'MINsPH2', 'MINssPH', 'MINsssP', 'MINdsssP', 'MINsssssP', 'MINsSH', 'MINdssS', 'MINsGeH3', 'MINssGeH2', 'MINsssGeH', 'MINssssGe', 'MINsAsH2', 'MINssAsH', 'MINsssAs', 'MINsssdAs', 'MINsssssAs', 'MINsSeH', 'MINdSe', 'MINssSe', 'MINaaSe', 'MINdssSe', 'MINddssSe', 'MINsSnH3', 'MINssSnH2', 'MINsssSnH', 'MINssssSn', 'MINsI', 'MINsPbH3', 'MINssPbH2', 'MINsssPbH', 'MINssssPb']\n",
      "all_data : (241, 3823)\n",
      "60.97 30\n",
      "80.46000000000001 50\n",
      "88.09000000000002 70\n",
      "92.30000000000003 90\n",
      "94.89000000000004 111\n",
      "96.74 131\n",
      "Fitting 10 folds for each of 20 candidates, totalling 200 fits\n"
     ]
    },
    {
     "name": "stderr",
     "output_type": "stream",
     "text": [
      "C:\\Users\\sean\\Miniconda3\\envs\\MacrolideDB\\lib\\site-packages\\sklearn\\model_selection\\_search.py:271: UserWarning: The total space of parameters 20 is smaller than n_iter=100. Running 20 iterations. For exhaustive searches, use GridSearchCV.\n",
      "  % (grid_size, self.n_iter, grid_size), UserWarning)\n",
      "[Parallel(n_jobs=2)]: Using backend LokyBackend with 2 concurrent workers.\n",
      "[Parallel(n_jobs=2)]: Done 200 out of 200 | elapsed:    0.7s finished\n",
      "C:\\Users\\sean\\Miniconda3\\envs\\MacrolideDB\\lib\\site-packages\\sklearn\\model_selection\\_search.py:841: DeprecationWarning: The default of the `iid` parameter will change from True to False in version 0.22 and will be removed in 0.24. This will change numeric results when test-set sizes are unequal.\n",
      "  DeprecationWarning)\n",
      "C:\\Users\\sean\\Miniconda3\\envs\\MacrolideDB\\lib\\site-packages\\sklearn\\model_selection\\_search.py:271: UserWarning: The total space of parameters 24 is smaller than n_iter=100. Running 24 iterations. For exhaustive searches, use GridSearchCV.\n",
      "  % (grid_size, self.n_iter, grid_size), UserWarning)\n",
      "[Parallel(n_jobs=2)]: Using backend LokyBackend with 2 concurrent workers.\n"
     ]
    },
    {
     "name": "stdout",
     "output_type": "stream",
     "text": [
      "{'n_iter': 200, 'fit_intercept': True}\n",
      "Fitting 10 folds for each of 24 candidates, totalling 240 fits\n"
     ]
    },
    {
     "name": "stderr",
     "output_type": "stream",
     "text": [
      "[Parallel(n_jobs=2)]: Done 240 out of 240 | elapsed:    6.4s finished\n",
      "C:\\Users\\sean\\Miniconda3\\envs\\MacrolideDB\\lib\\site-packages\\sklearn\\model_selection\\_search.py:841: DeprecationWarning: The default of the `iid` parameter will change from True to False in version 0.22 and will be removed in 0.24. This will change numeric results when test-set sizes are unequal.\n",
      "  DeprecationWarning)\n",
      "C:\\Users\\sean\\Miniconda3\\envs\\MacrolideDB\\lib\\site-packages\\sklearn\\svm\\base.py:196: FutureWarning: The default value of gamma will change from 'auto' to 'scale' in version 0.22 to account better for unscaled features. Set gamma explicitly to 'auto' or 'scale' to avoid this warning.\n",
      "  \"avoid this warning.\", FutureWarning)\n",
      "[Parallel(n_jobs=2)]: Using backend LokyBackend with 2 concurrent workers.\n"
     ]
    },
    {
     "name": "stdout",
     "output_type": "stream",
     "text": [
      "{'shrinking': True, 'degree': 1, 'kernel': 'rbf'}\n",
      "Fitting 10 folds for each of 100 candidates, totalling 1000 fits\n"
     ]
    },
    {
     "name": "stderr",
     "output_type": "stream",
     "text": [
      "[Parallel(n_jobs=2)]: Done 1000 out of 1000 | elapsed:    4.8s finished\n",
      "C:\\Users\\sean\\Miniconda3\\envs\\MacrolideDB\\lib\\site-packages\\sklearn\\model_selection\\_search.py:841: DeprecationWarning: The default of the `iid` parameter will change from True to False in version 0.22 and will be removed in 0.24. This will change numeric results when test-set sizes are unequal.\n",
      "  DeprecationWarning)\n",
      "[Parallel(n_jobs=2)]: Using backend LokyBackend with 2 concurrent workers.\n"
     ]
    },
    {
     "name": "stdout",
     "output_type": "stream",
     "text": [
      "{'n_neighbors': 3, 'algorithm': 'auto', 'weights': 'uniform', 'leaf_size': 80}\n",
      "Fitting 10 folds for each of 100 candidates, totalling 1000 fits\n"
     ]
    },
    {
     "name": "stderr",
     "output_type": "stream",
     "text": [
      "[Parallel(n_jobs=2)]: Done  37 tasks      | elapsed:   47.0s\n",
      "[Parallel(n_jobs=2)]: Done 158 tasks      | elapsed:  3.3min\n",
      "[Parallel(n_jobs=2)]: Done 361 tasks      | elapsed:  7.9min\n",
      "[Parallel(n_jobs=2)]: Done 644 tasks      | elapsed: 14.2min\n",
      "[Parallel(n_jobs=2)]: Done 1000 out of 1000 | elapsed: 20.9min finished\n",
      "C:\\Users\\sean\\Miniconda3\\envs\\MacrolideDB\\lib\\site-packages\\sklearn\\model_selection\\_search.py:841: DeprecationWarning: The default of the `iid` parameter will change from True to False in version 0.22 and will be removed in 0.24. This will change numeric results when test-set sizes are unequal.\n",
      "  DeprecationWarning)\n"
     ]
    },
    {
     "name": "stdout",
     "output_type": "stream",
     "text": [
      "{'max_depth': 40, 'bootstrap': True, 'max_features': 'auto', 'n_estimators': 600, 'min_samples_leaf': 4, 'min_samples_split': 2}\n",
      "Data Partition  0  ...\n"
     ]
    },
    {
     "name": "stderr",
     "output_type": "stream",
     "text": [
      "C:\\Users\\sean\\Miniconda3\\envs\\MacrolideDB\\lib\\site-packages\\sklearn\\svm\\base.py:196: FutureWarning: The default value of gamma will change from 'auto' to 'scale' in version 0.22 to account better for unscaled features. Set gamma explicitly to 'auto' or 'scale' to avoid this warning.\n",
      "  \"avoid this warning.\", FutureWarning)\n"
     ]
    },
    {
     "name": "stdout",
     "output_type": "stream",
     "text": [
      "Data Partition  1  ...\n"
     ]
    },
    {
     "name": "stderr",
     "output_type": "stream",
     "text": [
      "C:\\Users\\sean\\Miniconda3\\envs\\MacrolideDB\\lib\\site-packages\\sklearn\\svm\\base.py:196: FutureWarning: The default value of gamma will change from 'auto' to 'scale' in version 0.22 to account better for unscaled features. Set gamma explicitly to 'auto' or 'scale' to avoid this warning.\n",
      "  \"avoid this warning.\", FutureWarning)\n"
     ]
    },
    {
     "name": "stdout",
     "output_type": "stream",
     "text": [
      "Data Partition  2  ...\n"
     ]
    },
    {
     "name": "stderr",
     "output_type": "stream",
     "text": [
      "C:\\Users\\sean\\Miniconda3\\envs\\MacrolideDB\\lib\\site-packages\\sklearn\\svm\\base.py:196: FutureWarning: The default value of gamma will change from 'auto' to 'scale' in version 0.22 to account better for unscaled features. Set gamma explicitly to 'auto' or 'scale' to avoid this warning.\n",
      "  \"avoid this warning.\", FutureWarning)\n"
     ]
    },
    {
     "name": "stdout",
     "output_type": "stream",
     "text": [
      "Data Partition  3  ...\n"
     ]
    },
    {
     "name": "stderr",
     "output_type": "stream",
     "text": [
      "C:\\Users\\sean\\Miniconda3\\envs\\MacrolideDB\\lib\\site-packages\\sklearn\\svm\\base.py:196: FutureWarning: The default value of gamma will change from 'auto' to 'scale' in version 0.22 to account better for unscaled features. Set gamma explicitly to 'auto' or 'scale' to avoid this warning.\n",
      "  \"avoid this warning.\", FutureWarning)\n"
     ]
    },
    {
     "name": "stdout",
     "output_type": "stream",
     "text": [
      "Data Partition  4  ...\n"
     ]
    },
    {
     "name": "stderr",
     "output_type": "stream",
     "text": [
      "C:\\Users\\sean\\Miniconda3\\envs\\MacrolideDB\\lib\\site-packages\\sklearn\\svm\\base.py:196: FutureWarning: The default value of gamma will change from 'auto' to 'scale' in version 0.22 to account better for unscaled features. Set gamma explicitly to 'auto' or 'scale' to avoid this warning.\n",
      "  \"avoid this warning.\", FutureWarning)\n"
     ]
    },
    {
     "name": "stdout",
     "output_type": "stream",
     "text": [
      "0 DAYS: 1 HOURS: 36 MINUTES: 32.257 SECONDS\n"
     ]
    }
   ],
   "source": [
    "start_time = time.time()\n",
    "\n",
    "outer_k = 10\n",
    "\n",
    "directory = 'G:/My Drive/NCSU/2019 Summer/Data/Databases_Processed/Accepted/RS_12&above/Ester_in_ring_RS_12&above/Duplicates Removed/macrolactone_ester_in_R12&above/target_CHEMBL364/'\n",
    "\n",
    "implicit = ['maccs_fing.csv', 'ecfp6_fing.csv']\n",
    "\n",
    "explicit = ['mordred_desc.csv', '2Drdkit_desc.csv', 'mrc_desc.csv', 'mordred_mrc_desc.csv', 'all_comb.csv']\n",
    "\n",
    "all_folders = implicit + explicit \n",
    "\n",
    "cv_frame = pd.DataFrame()\n",
    "\n",
    "for desc in all_folders:\n",
    "    print('Processing ' + desc + '...')\n",
    "    cv_frame = pd.DataFrame()\n",
    "\n",
    "    combined = pd.read_csv(directory + desc, sep=',')\n",
    "    combined = shuffle(combined)\n",
    "\n",
    "\n",
    "    all_IDs     = combined[['ID']]\n",
    "    pre_all_data    = combined.drop(columns=['Aff', 'ID'])\n",
    "    all_targets  = np.concatenate(combined[['Aff']].values, axis=0).tolist()\n",
    "\n",
    "    all_data = data_process(pre_all_data, desc)\n",
    "    all_data = reduce_dimensions(all_data)\n",
    "    \n",
    "\n",
    "    test_fold,train_fold = split_partitions(all_data,all_targets,all_IDs,outer_k)  #OUTER FOLDS\n",
    "\n",
    "    all_outerCV__predictions = []\n",
    "    all_outerCV__IDs = [] \n",
    "    all_outerCV__targets = []\n",
    "    \n",
    "    ###########################################\n",
    "    \n",
    "\n",
    "    for i in range(outer_k):    \n",
    "        # For each external fold, redefine the train and test splits which have been predefined.\n",
    "        print('Data Partition ',str(i), ' ...')\n",
    "\n",
    "        outer_train = train_fold[i]\n",
    "        outer_test  = test_fold[i]\n",
    "\n",
    "        outerCV__test_data, outerCV__test_targets, outerCV__test_ids  = test_fold[i][0], test_fold[i][1], test_fold[i][2].values.flatten().tolist()\n",
    "        outerCV__train_data, outerCV__train_targets, outerCV__train_ids = train_fold[i][0], train_fold[i][1], train_fold[i][2].tolist()\n",
    "\n",
    "        ### DNN ###\n",
    "\n",
    "        best_model = None\n",
    "        best_model = build_model(input_nodes)\n",
    "        reset_weights(best_model)\n",
    "\n",
    "        best_model.fit(outerCV__train_data, outerCV__train_targets,epochs = num_epochs, batch_size=10, verbose=0)\n",
    "\n",
    "        outerCV__predictions = best_model.predict(outerCV__test_data)\n",
    "        outerCV__predictions_list  = np.concatenate(outerCV__predictions, axis=0).tolist()\n",
    "        all_outerCV__predictions.append(outerCV__predictions_list)\n",
    "\n",
    "        #     cv_model_path = directory+'cv_10_fold'\n",
    "        #     cv_model_file = cv_model_path + '/fold_'+str(i)+'.h5'\n",
    "        #     if not os.path.exists(cv_model_path):\n",
    "        #         os.mkdir(cv_model_path)\n",
    "        #         if os.path.exists(cv_model_file):\n",
    "        #             os.remove(cv_model_file)\n",
    "        #     best_model.save(cv_model_file)\n",
    "\n",
    "        reset_weights(best_model)\n",
    "        K.clear_session()\n",
    "        gc.collect()\n",
    "        del best_model\n",
    "\n",
    "        \n",
    "\n",
    "        ### targets and IDs ###\n",
    "\n",
    "        all_outerCV__targets.append(outerCV__test_targets)\n",
    "        all_outerCV__IDs.append(outerCV__test_ids)\n",
    "\n",
    "    ##############################\n",
    "\n",
    "    outerCV__predictions_combined   = list(itertools.chain.from_iterable(all_outerCV__predictions))\n",
    "    \n",
    "    \n",
    "    outerCV__targets_combined  = list(itertools.chain.from_iterable(all_outerCV__targets))\n",
    "    outerCV__predictions_combined = list(itertools.chain.from_iterable(all_outerCV__predictions))\n",
    "    outerCV__IDs_combined = list(itertools.chain.from_iterable(all_outerCV__IDs))\n",
    "    \n",
    "    cv_frame[desc[:-9]+'_exp']  = outerCV__targets_combined\n",
    "    cv_frame[desc[:-9]+'_IDs']  = outerCV__IDs_combined\n",
    "    cv_frame[desc[:-9]+'_pred'] = outerCV__predictions_combined\n",
    "    \n",
    "    result_directory = directory+'predictions/5-fold/pca_tuned/'\n",
    "    \n",
    "cv_frame.to_csv(result_directory+'DNN.csv',index=False)\n",
    "\n",
    "duration = convert_time(time.time()-start_time)\n",
    "print(duration)"
   ]
  },
  {
   "cell_type": "code",
   "execution_count": null,
   "metadata": {},
   "outputs": [],
   "source": []
  }
 ],
 "metadata": {
  "kernelspec": {
   "display_name": "Python 3",
   "language": "python",
   "name": "python3"
  },
  "language_info": {
   "codemirror_mode": {
    "name": "ipython",
    "version": 3
   },
   "file_extension": ".py",
   "mimetype": "text/x-python",
   "name": "python",
   "nbconvert_exporter": "python",
   "pygments_lexer": "ipython3",
   "version": "3.7.7"
  }
 },
 "nbformat": 4,
 "nbformat_minor": 2
}
